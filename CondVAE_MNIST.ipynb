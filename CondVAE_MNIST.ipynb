{
  "nbformat": 4,
  "nbformat_minor": 0,
  "metadata": {
    "colab": {
      "name": "CondVAE MNIST.ipynb",
      "version": "0.3.2",
      "provenance": [],
      "collapsed_sections": [],
      "toc_visible": true,
      "include_colab_link": true
    },
    "kernelspec": {
      "name": "python3",
      "display_name": "Python 3"
    },
    "accelerator": "GPU"
  },
  "cells": [
    {
      "cell_type": "markdown",
      "metadata": {
        "id": "view-in-github",
        "colab_type": "text"
      },
      "source": [
        "<a href=\"https://colab.research.google.com/github/jean-ivy/cond_text_vae_project/blob/master/CondVAE_MNIST.ipynb\" target=\"_parent\"><img src=\"https://colab.research.google.com/assets/colab-badge.svg\" alt=\"Open In Colab\"/></a>"
      ]
    },
    {
      "cell_type": "code",
      "metadata": {
        "id": "k0Rx3QPxTLm_",
        "colab_type": "code",
        "colab": {}
      },
      "source": [
        "# Install the PyDrive wrapper & import libraries.\n",
        "# This only needs to be done once per notebook.\n",
        "!pip install -U -q PyDrive\n",
        "from pydrive.auth import GoogleAuth\n",
        "from pydrive.drive import GoogleDrive\n",
        "from google.colab import auth\n",
        "from oauth2client.client import GoogleCredentials\n",
        "\n",
        "# Authenticate and create the PyDrive client.\n",
        "# This only needs to be done once per notebook.\n",
        "auth.authenticate_user()\n",
        "gauth = GoogleAuth()\n",
        "gauth.credentials = GoogleCredentials.get_application_default()\n",
        "drive = GoogleDrive(gauth)"
      ],
      "execution_count": 0,
      "outputs": []
    },
    {
      "cell_type": "code",
      "metadata": {
        "id": "7ZuosXM_TaDY",
        "colab_type": "code",
        "colab": {}
      },
      "source": [
        "import torch\n",
        "import torch.nn as nn\n",
        "import torch.nn.functional as F\n",
        "from torch.autograd import Variable\n",
        "\n",
        "import torchvision\n",
        "from torchvision import datasets\n",
        "from torchvision import transforms\n",
        "from torchvision.utils import save_image\n",
        "#from torchsummary import summary\n",
        "\n",
        "#from pushover import notify\n",
        "#from utils import makegif\n",
        "from random import randint\n",
        "\n",
        "from IPython.display import Image\n",
        "from IPython.core.display import Image, display\n",
        "\n",
        "%load_ext autoreload\n",
        "%autoreload 2"
      ],
      "execution_count": 0,
      "outputs": []
    },
    {
      "cell_type": "code",
      "metadata": {
        "id": "Wx1z-9IdTqJ1",
        "colab_type": "code",
        "colab": {}
      },
      "source": [
        "import os\n",
        "from tqdm import tqdm\n",
        "import matplotlib.pyplot as plt"
      ],
      "execution_count": 0,
      "outputs": []
    },
    {
      "cell_type": "code",
      "metadata": {
        "id": "OT4WCERgTuLK",
        "colab_type": "code",
        "outputId": "148b534d-b071-459f-eb17-f0da07919b2c",
        "colab": {
          "base_uri": "https://localhost:8080/",
          "height": 35
        }
      },
      "source": [
        "# Device configuration\n",
        "device = torch.device('cuda' if torch.cuda.is_available() else 'cpu')\n",
        "device"
      ],
      "execution_count": 0,
      "outputs": [
        {
          "output_type": "execute_result",
          "data": {
            "text/plain": [
              "device(type='cuda')"
            ]
          },
          "metadata": {
            "tags": []
          },
          "execution_count": 4
        }
      ]
    },
    {
      "cell_type": "code",
      "metadata": {
        "id": "mKJtNtrrTxPJ",
        "colab_type": "code",
        "colab": {}
      },
      "source": [
        "batch_size = 32"
      ],
      "execution_count": 0,
      "outputs": []
    },
    {
      "cell_type": "code",
      "metadata": {
        "id": "qmRYwb4TUPZg",
        "colab_type": "code",
        "outputId": "026e5467-2589-4ba1-e4cd-260be7f63368",
        "colab": {
          "base_uri": "https://localhost:8080/",
          "height": 280
        }
      },
      "source": [
        "root = './data'\n",
        "if not os.path.exists(root):\n",
        "    os.mkdir(root)\n",
        "    \n",
        "trans = transforms.Compose([transforms.ToTensor()])\n",
        "# if not exist, download mnist dataset\n",
        "train_set = datasets.MNIST(root=root, train=True, transform=trans, download=True)\n",
        "test_set = datasets.MNIST(root=root, train=False, transform=trans, download=True)"
      ],
      "execution_count": 0,
      "outputs": [
        {
          "output_type": "stream",
          "text": [
            "\r0it [00:00, ?it/s]"
          ],
          "name": "stderr"
        },
        {
          "output_type": "stream",
          "text": [
            "Downloading http://yann.lecun.com/exdb/mnist/train-images-idx3-ubyte.gz to ./data/MNIST/raw/train-images-idx3-ubyte.gz\n"
          ],
          "name": "stdout"
        },
        {
          "output_type": "stream",
          "text": [
            "9920512it [00:01, 8578531.38it/s]                            \n"
          ],
          "name": "stderr"
        },
        {
          "output_type": "stream",
          "text": [
            "Extracting ./data/MNIST/raw/train-images-idx3-ubyte.gz\n"
          ],
          "name": "stdout"
        },
        {
          "output_type": "stream",
          "text": [
            "  0%|          | 0/28881 [00:00<?, ?it/s]"
          ],
          "name": "stderr"
        },
        {
          "output_type": "stream",
          "text": [
            "Downloading http://yann.lecun.com/exdb/mnist/train-labels-idx1-ubyte.gz to ./data/MNIST/raw/train-labels-idx1-ubyte.gz\n"
          ],
          "name": "stdout"
        },
        {
          "output_type": "stream",
          "text": [
            "32768it [00:00, 129126.20it/s]           \n",
            "  0%|          | 0/1648877 [00:00<?, ?it/s]"
          ],
          "name": "stderr"
        },
        {
          "output_type": "stream",
          "text": [
            "Extracting ./data/MNIST/raw/train-labels-idx1-ubyte.gz\n",
            "Downloading http://yann.lecun.com/exdb/mnist/t10k-images-idx3-ubyte.gz to ./data/MNIST/raw/t10k-images-idx3-ubyte.gz\n"
          ],
          "name": "stdout"
        },
        {
          "output_type": "stream",
          "text": [
            "1654784it [00:00, 2021807.54it/s]                            \n",
            "0it [00:00, ?it/s]"
          ],
          "name": "stderr"
        },
        {
          "output_type": "stream",
          "text": [
            "Extracting ./data/MNIST/raw/t10k-images-idx3-ubyte.gz\n",
            "Downloading http://yann.lecun.com/exdb/mnist/t10k-labels-idx1-ubyte.gz to ./data/MNIST/raw/t10k-labels-idx1-ubyte.gz\n"
          ],
          "name": "stdout"
        },
        {
          "output_type": "stream",
          "text": [
            "8192it [00:00, 49026.37it/s]            \n"
          ],
          "name": "stderr"
        },
        {
          "output_type": "stream",
          "text": [
            "Extracting ./data/MNIST/raw/t10k-labels-idx1-ubyte.gz\n",
            "Processing...\n",
            "Done!\n"
          ],
          "name": "stdout"
        }
      ]
    },
    {
      "cell_type": "code",
      "metadata": {
        "id": "1qNSmy2LURkA",
        "colab_type": "code",
        "colab": {}
      },
      "source": [
        "train_loader = torch.utils.data.DataLoader(\n",
        "                 dataset=train_set,\n",
        "                 batch_size=batch_size,\n",
        "                 shuffle=True)\n",
        "test_loader = torch.utils.data.DataLoader(\n",
        "                dataset=test_set,\n",
        "                batch_size=batch_size,\n",
        "                shuffle=False)"
      ],
      "execution_count": 0,
      "outputs": []
    },
    {
      "cell_type": "code",
      "metadata": {
        "id": "E0_hX4VTdMup",
        "colab_type": "code",
        "colab": {}
      },
      "source": [
        "n_classes = 10"
      ],
      "execution_count": 0,
      "outputs": []
    },
    {
      "cell_type": "code",
      "metadata": {
        "id": "XKinFlRMUYf6",
        "colab_type": "code",
        "colab": {}
      },
      "source": [
        "class Flatten(nn.Module):\n",
        "    def forward(self, input):\n",
        "        return input.view(input.size(0), -1)"
      ],
      "execution_count": 0,
      "outputs": []
    },
    {
      "cell_type": "code",
      "metadata": {
        "id": "xA_o3NjMUhYw",
        "colab_type": "code",
        "colab": {}
      },
      "source": [
        "class UnFlatten(nn.Module):\n",
        "    def forward(self, input, size=800 + n_classes):\n",
        "        return input.view(input.size(0), size, 1, 1)"
      ],
      "execution_count": 0,
      "outputs": []
    },
    {
      "cell_type": "code",
      "metadata": {
        "id": "mhtWJw2ydYnR",
        "colab_type": "code",
        "colab": {}
      },
      "source": [
        "class VAE(nn.Module):\n",
        "    def __init__(self, image_channels=3, h_dim=800, z_dim=16):\n",
        "        super(VAE, self).__init__()\n",
        "        self.encoder = nn.Sequential(\n",
        "            nn.Conv2d(image_channels, 16, kernel_size=4, stride=2),\n",
        "            nn.ReLU(),\n",
        "            nn.Conv2d(16, 32, kernel_size=4, stride=2),\n",
        "            nn.ReLU(),\n",
        "            Flatten(),\n",
        "        )\n",
        "        self.n_classes = 10\n",
        "        self.fc1 = nn.Linear(h_dim + self.n_classes, z_dim)\n",
        "        self.fc2 = nn.Linear(h_dim + self.n_classes, z_dim)\n",
        "        self.fc3 = nn.Linear(z_dim, h_dim)\n",
        "        \n",
        "        self.decoder = nn.Sequential(\n",
        "            UnFlatten(),\n",
        "            nn.ConvTranspose2d(h_dim + self.n_classes, 16, kernel_size=5, stride=2),\n",
        "            nn.ReLU(),\n",
        "            nn.ConvTranspose2d(16, 32, kernel_size=5, stride=2),\n",
        "            nn.ReLU(),\n",
        "            nn.ConvTranspose2d(32, image_channels, kernel_size=4, stride=2),\n",
        "            nn.Sigmoid(),\n",
        "        )\n",
        "        \n",
        "    def reparameterize(self, mu, logvar):\n",
        "        std = logvar.mul(0.5).exp_()\n",
        "        esp = torch.randn(*mu.size()).cuda()\n",
        "        z = mu + std * esp\n",
        "        return z\n",
        "    \n",
        "    def bottleneck(self, h, label):\n",
        "        mu, logvar = self.fc1(torch.cat((h, label), 1)), self.fc2(torch.cat((h, label), 1))\n",
        "        z = self.reparameterize(mu, logvar)\n",
        "        return z, mu, logvar\n",
        "\n",
        "    def encode(self, x, label):\n",
        "        h = self.encoder(x)\n",
        "        z, mu, logvar = self.bottleneck(h, label)\n",
        "        return z, mu, logvar\n",
        "\n",
        "    def decode(self, z, label):      \n",
        "        z = self.fc3(z)\n",
        "        z = torch.cat((z, label), 1)\n",
        "        z = self.decoder(z)\n",
        "        return z\n",
        "\n",
        "    def forward(self, x, label):\n",
        "        z, mu, logvar = self.encode(x, label)\n",
        "        z = self.decode(z, label)\n",
        "        return z, mu, logvar"
      ],
      "execution_count": 0,
      "outputs": []
    },
    {
      "cell_type": "code",
      "metadata": {
        "id": "ywCitIjkeAyZ",
        "colab_type": "code",
        "colab": {}
      },
      "source": [
        "def one_hot_embedding(labels, num_classes):\n",
        "    \"\"\"Embedding labels to one-hot form.\n",
        "\n",
        "    Args:\n",
        "      labels: (LongTensor) class labels, sized [N,].\n",
        "      num_classes: (int) number of classes.\n",
        "\n",
        "    Returns:\n",
        "      (tensor) encoded labels, sized [N, #classes].\n",
        "    \"\"\"\n",
        "    y = torch.eye(num_classes) \n",
        "    return y[labels] "
      ],
      "execution_count": 0,
      "outputs": []
    },
    {
      "cell_type": "code",
      "metadata": {
        "id": "kmD448nDXfmB",
        "colab_type": "code",
        "colab": {}
      },
      "source": [
        "def loss_fn(recon_x, x, mu, logvar):\n",
        "    BCE = F.mse_loss(recon_x, x, size_average=False)\n",
        "    KLD = -0.5 * torch.mean(1 + logvar - mu.pow(2) - logvar.exp())\n",
        "\n",
        "    return BCE + KLD, BCE, KLD"
      ],
      "execution_count": 0,
      "outputs": []
    },
    {
      "cell_type": "code",
      "metadata": {
        "id": "18bx1WwgUiqL",
        "colab_type": "code",
        "colab": {}
      },
      "source": [
        "image_channels = 1\n",
        "z_dim = 16"
      ],
      "execution_count": 0,
      "outputs": []
    },
    {
      "cell_type": "code",
      "metadata": {
        "id": "Knxio4zqUmTH",
        "colab_type": "code",
        "outputId": "2779b5bf-d541-49d3-f7c4-c049d1712199",
        "colab": {
          "base_uri": "https://localhost:8080/",
          "height": 35
        }
      },
      "source": [
        "model = VAE(image_channels=image_channels, z_dim=16).to(device)\n",
        "model.load_state_dict(torch.load('600epochs_cvae_mnist.torch'))"
      ],
      "execution_count": 0,
      "outputs": [
        {
          "output_type": "execute_result",
          "data": {
            "text/plain": [
              "IncompatibleKeys(missing_keys=[], unexpected_keys=[])"
            ]
          },
          "metadata": {
            "tags": []
          },
          "execution_count": 89
        }
      ]
    },
    {
      "cell_type": "code",
      "metadata": {
        "id": "TUBGnhpFUolQ",
        "colab_type": "code",
        "colab": {}
      },
      "source": [
        "optimizer = torch.optim.Adam(model.parameters(), lr=0.0001, weight_decay=0.0001)"
      ],
      "execution_count": 0,
      "outputs": []
    },
    {
      "cell_type": "code",
      "metadata": {
        "id": "eUx5cBArVmC5",
        "colab_type": "code",
        "colab": {}
      },
      "source": [
        "epochs = 300"
      ],
      "execution_count": 0,
      "outputs": []
    },
    {
      "cell_type": "code",
      "metadata": {
        "id": "jxbb8yFPVi6Y",
        "colab_type": "code",
        "outputId": "7f4f8417-54db-42e2-b4ba-fa7402231ee7",
        "colab": {
          "base_uri": "https://localhost:8080/",
          "height": 10472
        }
      },
      "source": [
        "for epoch in range(epochs):\n",
        "    t = tqdm(train_loader, mininterval=1, desc='-(Training)', leave=False)\n",
        "    total_loss = 0\n",
        "    total_bce = 0\n",
        "    total_kld = 0\n",
        "    print(\"Epoch #{}\".format(epoch))\n",
        "    for idx, (images, labels) in enumerate(t):\n",
        "        labels = one_hot_embedding(labels, 10)\n",
        "        images = images.cuda()\n",
        "        labels = labels.cuda()\n",
        "        recon_images, mu, logvar = model(images, labels)\n",
        "        loss, bce, kld = loss_fn(recon_images, images, mu, logvar)\n",
        "        optimizer.zero_grad()\n",
        "        loss.backward()\n",
        "        optimizer.step()\n",
        "        to_print = \"Epoch[{}/{}] Loss: {:.3f} {:.3f} {:.3f}\".format(epoch+1, \n",
        "                                epochs, loss.item() / batch_size, bce.item() / batch_size, kld.item() / batch_size)\n",
        "        #print(to_print)\n",
        "        total_loss += loss.item() / len(train_loader)\n",
        "        total_bce += bce.item() / len(train_loader)\n",
        "        total_kld += kld.item() / len(train_loader)\n",
        "    print(total_loss, total_bce, total_kld)"
      ],
      "execution_count": 0,
      "outputs": [
        {
          "output_type": "stream",
          "text": [
            "\r-(Training):   0%|          | 0/1875 [00:00<?, ?it/s]/usr/local/lib/python3.6/dist-packages/torch/nn/_reduction.py:46: UserWarning: size_average and reduce args will be deprecated, please use reduction='sum' instead.\n",
            "  warnings.warn(warning.format(ret))\n"
          ],
          "name": "stderr"
        },
        {
          "output_type": "stream",
          "text": [
            "Epoch #0\n"
          ],
          "name": "stdout"
        },
        {
          "output_type": "stream",
          "text": [
            "-(Training):   0%|          | 0/1875 [00:00<?, ?it/s]"
          ],
          "name": "stderr"
        },
        {
          "output_type": "stream",
          "text": [
            "165.82323351643882 161.49199067789698 4.3312429361979135\n",
            "Epoch #1\n"
          ],
          "name": "stdout"
        },
        {
          "output_type": "stream",
          "text": [
            "-(Training):   0%|          | 0/1875 [00:00<?, ?it/s]"
          ],
          "name": "stderr"
        },
        {
          "output_type": "stream",
          "text": [
            "165.1082771443681 160.78743265380885 4.320844514719642\n",
            "Epoch #2\n"
          ],
          "name": "stdout"
        },
        {
          "output_type": "stream",
          "text": [
            "-(Training):   0%|          | 0/1875 [00:00<?, ?it/s]"
          ],
          "name": "stderr"
        },
        {
          "output_type": "stream",
          "text": [
            "164.9426002522787 160.62443269042998 4.318167563629147\n",
            "Epoch #3\n"
          ],
          "name": "stdout"
        },
        {
          "output_type": "stream",
          "text": [
            "-(Training):   0%|          | 0/1875 [00:00<?, ?it/s]"
          ],
          "name": "stderr"
        },
        {
          "output_type": "stream",
          "text": [
            "164.84300417073618 160.5215989624025 4.321405021158845\n",
            "Epoch #4\n"
          ],
          "name": "stdout"
        },
        {
          "output_type": "stream",
          "text": [
            "-(Training):   0%|          | 0/1875 [00:00<?, ?it/s]"
          ],
          "name": "stderr"
        },
        {
          "output_type": "stream",
          "text": [
            "164.80436767985043 160.48510378417976 4.319263929748546\n",
            "Epoch #5\n"
          ],
          "name": "stdout"
        },
        {
          "output_type": "stream",
          "text": [
            "-(Training):   0%|          | 0/1875 [00:00<?, ?it/s]"
          ],
          "name": "stderr"
        },
        {
          "output_type": "stream",
          "text": [
            "164.72121770019533 160.39042118733704 4.330796568044028\n",
            "Epoch #6\n"
          ],
          "name": "stdout"
        },
        {
          "output_type": "stream",
          "text": [
            "-(Training):   0%|          | 0/1875 [00:00<?, ?it/s]"
          ],
          "name": "stderr"
        },
        {
          "output_type": "stream",
          "text": [
            "164.6790785359696 160.35297422281917 4.3261042897542294\n",
            "Epoch #7\n"
          ],
          "name": "stdout"
        },
        {
          "output_type": "stream",
          "text": [
            "-(Training):   0%|          | 0/1875 [00:00<?, ?it/s]"
          ],
          "name": "stderr"
        },
        {
          "output_type": "stream",
          "text": [
            "164.6059208740231 160.28429811197887 4.321622702026366\n",
            "Epoch #8\n"
          ],
          "name": "stdout"
        },
        {
          "output_type": "stream",
          "text": [
            "-(Training):   0%|          | 0/1875 [00:00<?, ?it/s]"
          ],
          "name": "stderr"
        },
        {
          "output_type": "stream",
          "text": [
            "164.58526960449234 160.25956262207046 4.325706829579671\n",
            "Epoch #9\n"
          ],
          "name": "stdout"
        },
        {
          "output_type": "stream",
          "text": [
            "-(Training):   0%|          | 0/1875 [00:00<?, ?it/s]"
          ],
          "name": "stderr"
        },
        {
          "output_type": "stream",
          "text": [
            "164.54571490071604 160.22036097005252 4.325353985087076\n",
            "Epoch #10\n"
          ],
          "name": "stdout"
        },
        {
          "output_type": "stream",
          "text": [
            "-(Training):   0%|          | 0/1875 [00:00<?, ?it/s]"
          ],
          "name": "stderr"
        },
        {
          "output_type": "stream",
          "text": [
            "164.49496586507195 160.1702716105147 4.324694213612872\n",
            "Epoch #11\n"
          ],
          "name": "stdout"
        },
        {
          "output_type": "stream",
          "text": [
            "-(Training):   0%|          | 0/1875 [00:00<?, ?it/s]"
          ],
          "name": "stderr"
        },
        {
          "output_type": "stream",
          "text": [
            "164.43930002034452 160.1161311686196 4.323169072977713\n",
            "Epoch #12\n"
          ],
          "name": "stdout"
        },
        {
          "output_type": "stream",
          "text": [
            "-(Training):   0%|          | 0/1875 [00:00<?, ?it/s]"
          ],
          "name": "stderr"
        },
        {
          "output_type": "stream",
          "text": [
            "164.41389619954444 160.0893526855468 4.324543762207027\n",
            "Epoch #13\n"
          ],
          "name": "stdout"
        },
        {
          "output_type": "stream",
          "text": [
            "-(Training):   0%|          | 0/1875 [00:00<?, ?it/s]"
          ],
          "name": "stderr"
        },
        {
          "output_type": "stream",
          "text": [
            "164.37617431233727 160.0511103230796 4.325063977559395\n",
            "Epoch #14\n"
          ],
          "name": "stdout"
        },
        {
          "output_type": "stream",
          "text": [
            "-(Training):   0%|          | 0/1875 [00:00<?, ?it/s]"
          ],
          "name": "stderr"
        },
        {
          "output_type": "stream",
          "text": [
            "164.3616101236981 160.03477379964167 4.326836389160156\n",
            "Epoch #15\n"
          ],
          "name": "stdout"
        },
        {
          "output_type": "stream",
          "text": [
            "-(Training):   0%|          | 0/1875 [00:00<?, ?it/s]"
          ],
          "name": "stderr"
        },
        {
          "output_type": "stream",
          "text": [
            "164.28502795817093 159.9618460530599 4.323181788635252\n",
            "Epoch #16\n"
          ],
          "name": "stdout"
        },
        {
          "output_type": "stream",
          "text": [
            "-(Training):   0%|          | 0/1875 [00:00<?, ?it/s]"
          ],
          "name": "stderr"
        },
        {
          "output_type": "stream",
          "text": [
            "164.27121419677727 159.9446353190104 4.326578946431483\n",
            "Epoch #17\n"
          ],
          "name": "stdout"
        },
        {
          "output_type": "stream",
          "text": [
            "-(Training):   0%|          | 0/1875 [00:00<?, ?it/s]"
          ],
          "name": "stderr"
        },
        {
          "output_type": "stream",
          "text": [
            "164.24107846679684 159.9140265625003 4.32705167922974\n",
            "Epoch #18\n"
          ],
          "name": "stdout"
        },
        {
          "output_type": "stream",
          "text": [
            "-(Training):   0%|          | 0/1875 [00:00<?, ?it/s]"
          ],
          "name": "stderr"
        },
        {
          "output_type": "stream",
          "text": [
            "164.19254757487016 159.86943365478444 4.323113875579835\n",
            "Epoch #19\n"
          ],
          "name": "stdout"
        },
        {
          "output_type": "stream",
          "text": [
            "-(Training):   0%|          | 0/1875 [00:00<?, ?it/s]"
          ],
          "name": "stderr"
        },
        {
          "output_type": "stream",
          "text": [
            "164.18243024088545 159.86000085042295 4.322429239908856\n",
            "Epoch #20\n"
          ],
          "name": "stdout"
        },
        {
          "output_type": "stream",
          "text": [
            "-(Training):   0%|          | 0/1875 [00:00<?, ?it/s]"
          ],
          "name": "stderr"
        },
        {
          "output_type": "stream",
          "text": [
            "164.1541735839846 159.8284043172199 4.325769379933665\n",
            "Epoch #21\n"
          ],
          "name": "stdout"
        },
        {
          "output_type": "stream",
          "text": [
            "-(Training):   0%|          | 0/1875 [00:00<?, ?it/s]"
          ],
          "name": "stderr"
        },
        {
          "output_type": "stream",
          "text": [
            "164.15044905598947 159.8244164225259 4.326032634735115\n",
            "Epoch #22\n"
          ],
          "name": "stdout"
        },
        {
          "output_type": "stream",
          "text": [
            "-(Training):   0%|          | 0/1875 [00:00<?, ?it/s]"
          ],
          "name": "stderr"
        },
        {
          "output_type": "stream",
          "text": [
            "164.10016778564454 159.77410300699896 4.326064828999847\n",
            "Epoch #23\n"
          ],
          "name": "stdout"
        },
        {
          "output_type": "stream",
          "text": [
            "-(Training):   0%|          | 0/1875 [00:00<?, ?it/s]"
          ],
          "name": "stderr"
        },
        {
          "output_type": "stream",
          "text": [
            "164.0636446044924 159.73930363362646 4.32434098103841\n",
            "Epoch #24\n"
          ],
          "name": "stdout"
        },
        {
          "output_type": "stream",
          "text": [
            "-(Training):   0%|          | 0/1875 [00:00<?, ?it/s]"
          ],
          "name": "stderr"
        },
        {
          "output_type": "stream",
          "text": [
            "164.05976199544264 159.73362902425123 4.32613291727702\n",
            "Epoch #25\n"
          ],
          "name": "stdout"
        },
        {
          "output_type": "stream",
          "text": [
            "-(Training):   0%|          | 0/1875 [00:00<?, ?it/s]"
          ],
          "name": "stderr"
        },
        {
          "output_type": "stream",
          "text": [
            "164.05572912190766 159.7276791748049 4.3280500485738145\n",
            "Epoch #26\n"
          ],
          "name": "stdout"
        },
        {
          "output_type": "stream",
          "text": [
            "-(Training):   0%|          | 0/1875 [00:00<?, ?it/s]"
          ],
          "name": "stderr"
        },
        {
          "output_type": "stream",
          "text": [
            "164.0392742431642 159.70516144612597 4.334112667846679\n",
            "Epoch #27\n"
          ],
          "name": "stdout"
        },
        {
          "output_type": "stream",
          "text": [
            "-(Training):   0%|          | 0/1875 [00:00<?, ?it/s]"
          ],
          "name": "stderr"
        },
        {
          "output_type": "stream",
          "text": [
            "164.00831252034524 159.67848588460276 4.329826581064868\n",
            "Epoch #28\n"
          ],
          "name": "stdout"
        },
        {
          "output_type": "stream",
          "text": [
            "-(Training):   0%|          | 0/1875 [00:00<?, ?it/s]"
          ],
          "name": "stderr"
        },
        {
          "output_type": "stream",
          "text": [
            "163.99981477050758 159.66906267496736 4.33075196660359\n",
            "Epoch #29\n"
          ],
          "name": "stdout"
        },
        {
          "output_type": "stream",
          "text": [
            "-(Training):   0%|          | 0/1875 [00:00<?, ?it/s]"
          ],
          "name": "stderr"
        },
        {
          "output_type": "stream",
          "text": [
            "163.94714833984412 159.61957769775407 4.327570533243815\n",
            "Epoch #30\n"
          ],
          "name": "stdout"
        },
        {
          "output_type": "stream",
          "text": [
            "-(Training):   0%|          | 0/1875 [00:00<?, ?it/s]"
          ],
          "name": "stderr"
        },
        {
          "output_type": "stream",
          "text": [
            "163.96129441324896 159.63023230387353 4.331062331644693\n",
            "Epoch #31\n"
          ],
          "name": "stdout"
        },
        {
          "output_type": "stream",
          "text": [
            "-(Training):   0%|          | 0/1875 [00:00<?, ?it/s]"
          ],
          "name": "stderr"
        },
        {
          "output_type": "stream",
          "text": [
            "163.9242315266927 159.59719112955742 4.327040511576338\n",
            "Epoch #32\n"
          ],
          "name": "stdout"
        },
        {
          "output_type": "stream",
          "text": [
            "-(Training):   0%|          | 0/1875 [00:00<?, ?it/s]"
          ],
          "name": "stderr"
        },
        {
          "output_type": "stream",
          "text": [
            "163.90418443196606 159.57920275472011 4.324981922149663\n",
            "Epoch #33\n"
          ],
          "name": "stdout"
        },
        {
          "output_type": "stream",
          "text": [
            "-(Training):   0%|          | 0/1875 [00:00<?, ?it/s]"
          ],
          "name": "stderr"
        },
        {
          "output_type": "stream",
          "text": [
            "163.88259684651703 159.5562577107745 4.326339078776034\n",
            "Epoch #34\n"
          ],
          "name": "stdout"
        },
        {
          "output_type": "stream",
          "text": [
            "-(Training):   0%|          | 0/1875 [00:00<?, ?it/s]"
          ],
          "name": "stderr"
        },
        {
          "output_type": "stream",
          "text": [
            "163.87290280354827 159.54848692220068 4.324415876261387\n",
            "Epoch #35\n"
          ],
          "name": "stdout"
        },
        {
          "output_type": "stream",
          "text": [
            "-(Training):   0%|          | 0/1875 [00:00<?, ?it/s]"
          ],
          "name": "stderr"
        },
        {
          "output_type": "stream",
          "text": [
            "163.86421205647792 159.53837486165364 4.325837170664467\n",
            "Epoch #36\n"
          ],
          "name": "stdout"
        },
        {
          "output_type": "stream",
          "text": [
            "-(Training):   0%|          | 0/1875 [00:00<?, ?it/s]"
          ],
          "name": "stderr"
        },
        {
          "output_type": "stream",
          "text": [
            "163.85409248046864 159.5255805623374 4.328511816406247\n",
            "Epoch #37\n"
          ],
          "name": "stdout"
        },
        {
          "output_type": "stream",
          "text": [
            "-(Training):   0%|          | 0/1875 [00:00<?, ?it/s]"
          ],
          "name": "stderr"
        },
        {
          "output_type": "stream",
          "text": [
            "163.83254037272147 159.50551127929674 4.327029245503753\n",
            "Epoch #38\n"
          ],
          "name": "stdout"
        },
        {
          "output_type": "stream",
          "text": [
            "-(Training):   0%|          | 0/1875 [00:00<?, ?it/s]"
          ],
          "name": "stderr"
        },
        {
          "output_type": "stream",
          "text": [
            "163.81320704752585 159.48457998046896 4.328627061971028\n",
            "Epoch #39\n"
          ],
          "name": "stdout"
        },
        {
          "output_type": "stream",
          "text": [
            "-(Training):   0%|          | 0/1875 [00:00<?, ?it/s]"
          ],
          "name": "stderr"
        },
        {
          "output_type": "stream",
          "text": [
            "163.8367151529945 159.50836503092447 4.328350034077962\n",
            "Epoch #40\n"
          ],
          "name": "stdout"
        },
        {
          "output_type": "stream",
          "text": [
            "-(Training):   0%|          | 0/1875 [00:00<?, ?it/s]"
          ],
          "name": "stderr"
        },
        {
          "output_type": "stream",
          "text": [
            "163.79018812255856 159.4620072794596 4.328180839792881\n",
            "Epoch #41\n"
          ],
          "name": "stdout"
        },
        {
          "output_type": "stream",
          "text": [
            "-(Training):   0%|          | 0/1875 [00:00<?, ?it/s]"
          ],
          "name": "stderr"
        },
        {
          "output_type": "stream",
          "text": [
            "163.7789775065108 159.45281905924472 4.326158480072022\n",
            "Epoch #42\n"
          ],
          "name": "stdout"
        },
        {
          "output_type": "stream",
          "text": [
            "-(Training):   0%|          | 0/1875 [00:00<?, ?it/s]"
          ],
          "name": "stderr"
        },
        {
          "output_type": "stream",
          "text": [
            "163.76883737386078 159.44854914143883 4.320288122558596\n",
            "Epoch #43\n"
          ],
          "name": "stdout"
        },
        {
          "output_type": "stream",
          "text": [
            "-(Training):   0%|          | 0/1875 [00:00<?, ?it/s]"
          ],
          "name": "stderr"
        },
        {
          "output_type": "stream",
          "text": [
            "163.77594436442067 159.44871431070982 4.327230093638105\n",
            "Epoch #44\n"
          ],
          "name": "stdout"
        },
        {
          "output_type": "stream",
          "text": [
            "-(Training):   0%|          | 0/1875 [00:00<?, ?it/s]"
          ],
          "name": "stderr"
        },
        {
          "output_type": "stream",
          "text": [
            "163.7358326375327 159.4092898478193 4.326542775726312\n",
            "Epoch #45\n"
          ],
          "name": "stdout"
        },
        {
          "output_type": "stream",
          "text": [
            "-(Training):   0%|          | 0/1875 [00:00<?, ?it/s]"
          ],
          "name": "stderr"
        },
        {
          "output_type": "stream",
          "text": [
            "163.7142387084963 159.3919865234377 4.322252121480298\n",
            "Epoch #46\n"
          ],
          "name": "stdout"
        },
        {
          "output_type": "stream",
          "text": [
            "-(Training):   0%|          | 0/1875 [00:00<?, ?it/s]"
          ],
          "name": "stderr"
        },
        {
          "output_type": "stream",
          "text": [
            "163.7299215942383 159.404137841797 4.325783823394778\n",
            "Epoch #47\n"
          ],
          "name": "stdout"
        },
        {
          "output_type": "stream",
          "text": [
            "-(Training):   0%|          | 0/1875 [00:00<?, ?it/s]"
          ],
          "name": "stderr"
        },
        {
          "output_type": "stream",
          "text": [
            "163.71293633626314 159.38394801839164 4.328988407135009\n",
            "Epoch #48\n"
          ],
          "name": "stdout"
        },
        {
          "output_type": "stream",
          "text": [
            "-(Training):   0%|          | 0/1875 [00:00<?, ?it/s]"
          ],
          "name": "stderr"
        },
        {
          "output_type": "stream",
          "text": [
            "163.69773232421875 159.37086537272123 4.326866885121659\n",
            "Epoch #49\n"
          ],
          "name": "stdout"
        },
        {
          "output_type": "stream",
          "text": [
            "-(Training):   0%|          | 0/1875 [00:00<?, ?it/s]"
          ],
          "name": "stderr"
        },
        {
          "output_type": "stream",
          "text": [
            "163.69467768961553 159.36344586588532 4.331231782786045\n",
            "Epoch #50\n"
          ],
          "name": "stdout"
        },
        {
          "output_type": "stream",
          "text": [
            "-(Training):   0%|          | 0/1875 [00:00<?, ?it/s]"
          ],
          "name": "stderr"
        },
        {
          "output_type": "stream",
          "text": [
            "163.64701942545565 159.3246760050457 4.322343375396722\n",
            "Epoch #51\n"
          ],
          "name": "stdout"
        },
        {
          "output_type": "stream",
          "text": [
            "-(Training):   0%|          | 0/1875 [00:00<?, ?it/s]"
          ],
          "name": "stderr"
        },
        {
          "output_type": "stream",
          "text": [
            "163.66545263671867 159.3371274454754 4.328325181579589\n",
            "Epoch #52\n"
          ],
          "name": "stdout"
        },
        {
          "output_type": "stream",
          "text": [
            "-(Training):   0%|          | 0/1875 [00:00<?, ?it/s]"
          ],
          "name": "stderr"
        },
        {
          "output_type": "stream",
          "text": [
            "163.65525107828773 159.33186814778645 4.323382835388188\n",
            "Epoch #53\n"
          ],
          "name": "stdout"
        },
        {
          "output_type": "stream",
          "text": [
            "-(Training):   0%|          | 0/1875 [00:00<?, ?it/s]"
          ],
          "name": "stderr"
        },
        {
          "output_type": "stream",
          "text": [
            "163.65858763834632 159.32971392822287 4.328873879750561\n",
            "Epoch #54\n"
          ],
          "name": "stdout"
        },
        {
          "output_type": "stream",
          "text": [
            "-(Training):   0%|          | 0/1875 [00:00<?, ?it/s]"
          ],
          "name": "stderr"
        },
        {
          "output_type": "stream",
          "text": [
            "163.6299101765956 159.30063295898427 4.32927725804647\n",
            "Epoch #55\n"
          ],
          "name": "stdout"
        },
        {
          "output_type": "stream",
          "text": [
            "-(Training):   0%|          | 0/1875 [00:00<?, ?it/s]"
          ],
          "name": "stderr"
        },
        {
          "output_type": "stream",
          "text": [
            "163.62031904703784 159.29000614827447 4.330312902069099\n",
            "Epoch #56\n"
          ],
          "name": "stdout"
        },
        {
          "output_type": "stream",
          "text": [
            "-(Training):   0%|          | 0/1875 [00:00<?, ?it/s]"
          ],
          "name": "stderr"
        },
        {
          "output_type": "stream",
          "text": [
            "163.61973491617871 159.28675007731147 4.332984951019289\n",
            "Epoch #57\n"
          ],
          "name": "stdout"
        },
        {
          "output_type": "stream",
          "text": [
            "-(Training):   0%|          | 0/1875 [00:00<?, ?it/s]"
          ],
          "name": "stderr"
        },
        {
          "output_type": "stream",
          "text": [
            "163.60397409261085 159.27409451497394 4.329879448954259\n",
            "Epoch #58\n"
          ],
          "name": "stdout"
        },
        {
          "output_type": "stream",
          "text": [
            "-(Training):   0%|          | 0/1875 [00:00<?, ?it/s]"
          ],
          "name": "stderr"
        },
        {
          "output_type": "stream",
          "text": [
            "163.58184705403633 159.25949786783846 4.322349240366613\n",
            "Epoch #59\n"
          ],
          "name": "stdout"
        },
        {
          "output_type": "stream",
          "text": [
            "-(Training):   0%|          | 0/1875 [00:00<?, ?it/s]"
          ],
          "name": "stderr"
        },
        {
          "output_type": "stream",
          "text": [
            "163.61010396321646 159.27357413737002 4.3365297818501745\n",
            "Epoch #60\n"
          ],
          "name": "stdout"
        },
        {
          "output_type": "stream",
          "text": [
            "-(Training):   0%|          | 0/1875 [00:00<?, ?it/s]"
          ],
          "name": "stderr"
        },
        {
          "output_type": "stream",
          "text": [
            "163.5803431599934 159.2486913492839 4.331651923116051\n",
            "Epoch #61\n"
          ],
          "name": "stdout"
        },
        {
          "output_type": "stream",
          "text": [
            "-(Training):   0%|          | 0/1875 [00:00<?, ?it/s]"
          ],
          "name": "stderr"
        },
        {
          "output_type": "stream",
          "text": [
            "163.57782952880905 159.24722668457 4.330602893066403\n",
            "Epoch #62\n"
          ],
          "name": "stdout"
        },
        {
          "output_type": "stream",
          "text": [
            "-(Training):   0%|          | 0/1875 [00:00<?, ?it/s]"
          ],
          "name": "stderr"
        },
        {
          "output_type": "stream",
          "text": [
            "163.56411847330716 159.23074069417322 4.333377851613362\n",
            "Epoch #63\n"
          ],
          "name": "stdout"
        },
        {
          "output_type": "stream",
          "text": [
            "-(Training):   0%|          | 0/1875 [00:00<?, ?it/s]"
          ],
          "name": "stderr"
        },
        {
          "output_type": "stream",
          "text": [
            "163.54884019368487 159.2209169189456 4.327923223368331\n",
            "Epoch #64\n"
          ],
          "name": "stdout"
        },
        {
          "output_type": "stream",
          "text": [
            "-(Training):   0%|          | 0/1875 [00:00<?, ?it/s]"
          ],
          "name": "stderr"
        },
        {
          "output_type": "stream",
          "text": [
            "163.5453623006187 159.216144189453 4.329217970275876\n",
            "Epoch #65\n"
          ],
          "name": "stdout"
        },
        {
          "output_type": "stream",
          "text": [
            "-(Training):   0%|          | 0/1875 [00:00<?, ?it/s]"
          ],
          "name": "stderr"
        },
        {
          "output_type": "stream",
          "text": [
            "163.5383901692708 159.2112095784505 4.327180741119381\n",
            "Epoch #66\n"
          ],
          "name": "stdout"
        },
        {
          "output_type": "stream",
          "text": [
            "-(Training):   0%|          | 0/1875 [00:00<?, ?it/s]"
          ],
          "name": "stderr"
        },
        {
          "output_type": "stream",
          "text": [
            "163.52694009602854 159.1953875325521 4.331552475229891\n",
            "Epoch #67\n"
          ],
          "name": "stdout"
        },
        {
          "output_type": "stream",
          "text": [
            "-(Training):   0%|          | 0/1875 [00:00<?, ?it/s]"
          ],
          "name": "stderr"
        },
        {
          "output_type": "stream",
          "text": [
            "163.4997137491862 159.17489050292966 4.324823292032872\n",
            "Epoch #68\n"
          ],
          "name": "stdout"
        },
        {
          "output_type": "stream",
          "text": [
            "-(Training):   0%|          | 0/1875 [00:00<?, ?it/s]"
          ],
          "name": "stderr"
        },
        {
          "output_type": "stream",
          "text": [
            "163.49927413330087 159.17655486246736 4.3227193227132235\n",
            "Epoch #69\n"
          ],
          "name": "stdout"
        },
        {
          "output_type": "stream",
          "text": [
            "-(Training):   0%|          | 0/1875 [00:00<?, ?it/s]"
          ],
          "name": "stderr"
        },
        {
          "output_type": "stream",
          "text": [
            "163.5026923624678 159.17355557454422 4.329136874389655\n",
            "Epoch #70\n"
          ],
          "name": "stdout"
        },
        {
          "output_type": "stream",
          "text": [
            "-(Training):   0%|          | 0/1875 [00:00<?, ?it/s]"
          ],
          "name": "stderr"
        },
        {
          "output_type": "stream",
          "text": [
            "163.47550675048805 159.15143096110006 4.324075841522223\n",
            "Epoch #71\n"
          ],
          "name": "stdout"
        },
        {
          "output_type": "stream",
          "text": [
            "-(Training):   0%|          | 0/1875 [00:00<?, ?it/s]"
          ],
          "name": "stderr"
        },
        {
          "output_type": "stream",
          "text": [
            "163.4845512654621 159.15656068115234 4.327990640513104\n",
            "Epoch #72\n"
          ],
          "name": "stdout"
        },
        {
          "output_type": "stream",
          "text": [
            "-(Training):   0%|          | 0/1875 [00:00<?, ?it/s]"
          ],
          "name": "stderr"
        },
        {
          "output_type": "stream",
          "text": [
            "163.46372991129607 159.13872631022156 4.325003648630773\n",
            "Epoch #73\n"
          ],
          "name": "stdout"
        },
        {
          "output_type": "stream",
          "text": [
            "-(Training):   0%|          | 0/1875 [00:00<?, ?it/s]"
          ],
          "name": "stderr"
        },
        {
          "output_type": "stream",
          "text": [
            "163.4605984049478 159.13459232991528 4.326006139119465\n",
            "Epoch #74\n"
          ],
          "name": "stdout"
        },
        {
          "output_type": "stream",
          "text": [
            "-(Training):   0%|          | 0/1875 [00:00<?, ?it/s]"
          ],
          "name": "stderr"
        },
        {
          "output_type": "stream",
          "text": [
            "163.47210618489595 159.13992098388647 4.332185030364991\n",
            "Epoch #75\n"
          ],
          "name": "stdout"
        },
        {
          "output_type": "stream",
          "text": [
            "-(Training):   0%|          | 0/1875 [00:00<?, ?it/s]"
          ],
          "name": "stderr"
        },
        {
          "output_type": "stream",
          "text": [
            "163.4402456583659 159.1108650024412 4.329380670166024\n",
            "Epoch #76\n"
          ],
          "name": "stdout"
        },
        {
          "output_type": "stream",
          "text": [
            "-(Training):   0%|          | 0/1875 [00:00<?, ?it/s]"
          ],
          "name": "stderr"
        },
        {
          "output_type": "stream",
          "text": [
            "163.44385944824216 159.1125384928383 4.331320893351239\n",
            "Epoch #77\n"
          ],
          "name": "stdout"
        },
        {
          "output_type": "stream",
          "text": [
            "-(Training):   0%|          | 0/1875 [00:00<?, ?it/s]"
          ],
          "name": "stderr"
        },
        {
          "output_type": "stream",
          "text": [
            "163.4460080525713 159.11210468750025 4.333903435516361\n",
            "Epoch #78\n"
          ],
          "name": "stdout"
        },
        {
          "output_type": "stream",
          "text": [
            "-(Training):   0%|          | 0/1875 [00:00<?, ?it/s]"
          ],
          "name": "stderr"
        },
        {
          "output_type": "stream",
          "text": [
            "163.43100523681642 159.1021200113935 4.328885217030838\n",
            "Epoch #79\n"
          ],
          "name": "stdout"
        },
        {
          "output_type": "stream",
          "text": [
            "-(Training):   0%|          | 0/1875 [00:00<?, ?it/s]"
          ],
          "name": "stderr"
        },
        {
          "output_type": "stream",
          "text": [
            "163.43079087320945 159.10224835205037 4.328542588297532\n",
            "Epoch #80\n"
          ],
          "name": "stdout"
        },
        {
          "output_type": "stream",
          "text": [
            "-(Training):   0%|          | 0/1875 [00:00<?, ?it/s]"
          ],
          "name": "stderr"
        },
        {
          "output_type": "stream",
          "text": [
            "163.41183957112622 159.07928850504555 4.332551031748463\n",
            "Epoch #81\n"
          ],
          "name": "stdout"
        },
        {
          "output_type": "stream",
          "text": [
            "-(Training):   0%|          | 0/1875 [00:00<?, ?it/s]"
          ],
          "name": "stderr"
        },
        {
          "output_type": "stream",
          "text": [
            "163.4137006429037 159.08266826985673 4.331032375335691\n",
            "Epoch #82\n"
          ],
          "name": "stdout"
        },
        {
          "output_type": "stream",
          "text": [
            "-(Training):   0%|          | 0/1875 [00:00<?, ?it/s]"
          ],
          "name": "stderr"
        },
        {
          "output_type": "stream",
          "text": [
            "163.3962706013998 159.07039807535787 4.325872610219326\n",
            "Epoch #83\n"
          ],
          "name": "stdout"
        },
        {
          "output_type": "stream",
          "text": [
            "-(Training):   0%|          | 0/1875 [00:00<?, ?it/s]"
          ],
          "name": "stderr"
        },
        {
          "output_type": "stream",
          "text": [
            "163.384944156901 159.06198392333985 4.32296021474202\n",
            "Epoch #84\n"
          ],
          "name": "stdout"
        },
        {
          "output_type": "stream",
          "text": [
            "-(Training):   0%|          | 0/1875 [00:00<?, ?it/s]"
          ],
          "name": "stderr"
        },
        {
          "output_type": "stream",
          "text": [
            "163.3829269775389 159.05966027832022 4.323266683451339\n",
            "Epoch #85\n"
          ],
          "name": "stdout"
        },
        {
          "output_type": "stream",
          "text": [
            "-(Training):   0%|          | 0/1875 [00:00<?, ?it/s]"
          ],
          "name": "stderr"
        },
        {
          "output_type": "stream",
          "text": [
            "163.36700962320964 159.03949640299462 4.327513332366941\n",
            "Epoch #86\n"
          ],
          "name": "stdout"
        },
        {
          "output_type": "stream",
          "text": [
            "-(Training):   0%|          | 0/1875 [00:00<?, ?it/s]"
          ],
          "name": "stderr"
        },
        {
          "output_type": "stream",
          "text": [
            "163.3747934570313 159.0462332845054 4.328560300191253\n",
            "Epoch #87\n"
          ],
          "name": "stdout"
        },
        {
          "output_type": "stream",
          "text": [
            "-(Training):   0%|          | 0/1875 [00:00<?, ?it/s]"
          ],
          "name": "stderr"
        },
        {
          "output_type": "stream",
          "text": [
            "163.37498653971355 159.04334203287772 4.331644627380376\n",
            "Epoch #88\n"
          ],
          "name": "stdout"
        },
        {
          "output_type": "stream",
          "text": [
            "-(Training):   0%|          | 0/1875 [00:00<?, ?it/s]"
          ],
          "name": "stderr"
        },
        {
          "output_type": "stream",
          "text": [
            "163.37820936279294 159.04684239501952 4.331366955057768\n",
            "Epoch #89\n"
          ],
          "name": "stdout"
        },
        {
          "output_type": "stream",
          "text": [
            "-(Training):   0%|          | 0/1875 [00:00<?, ?it/s]"
          ],
          "name": "stderr"
        },
        {
          "output_type": "stream",
          "text": [
            "163.35245801188188 159.0213328124999 4.3311251396179244\n",
            "Epoch #90\n"
          ],
          "name": "stdout"
        },
        {
          "output_type": "stream",
          "text": [
            "-(Training):   0%|          | 0/1875 [00:00<?, ?it/s]"
          ],
          "name": "stderr"
        },
        {
          "output_type": "stream",
          "text": [
            "163.33907723388685 159.01232815755165 4.326749201711009\n",
            "Epoch #91\n"
          ],
          "name": "stdout"
        },
        {
          "output_type": "stream",
          "text": [
            "-(Training):   0%|          | 0/1875 [00:00<?, ?it/s]"
          ],
          "name": "stderr"
        },
        {
          "output_type": "stream",
          "text": [
            "163.36881302083344 159.03643802083332 4.332374921671555\n",
            "Epoch #92\n"
          ],
          "name": "stdout"
        },
        {
          "output_type": "stream",
          "text": [
            "-(Training):   0%|          | 0/1875 [00:00<?, ?it/s]"
          ],
          "name": "stderr"
        },
        {
          "output_type": "stream",
          "text": [
            "163.34327893473318 159.00845386962897 4.334824917348215\n",
            "Epoch #93\n"
          ],
          "name": "stdout"
        },
        {
          "output_type": "stream",
          "text": [
            "-(Training):   0%|          | 0/1875 [00:00<?, ?it/s]"
          ],
          "name": "stderr"
        },
        {
          "output_type": "stream",
          "text": [
            "163.31846136881504 158.99450633138005 4.323955064900717\n",
            "Epoch #94\n"
          ],
          "name": "stdout"
        },
        {
          "output_type": "stream",
          "text": [
            "-(Training):   0%|          | 0/1875 [00:00<?, ?it/s]"
          ],
          "name": "stderr"
        },
        {
          "output_type": "stream",
          "text": [
            "163.30764166666697 158.97921831461593 4.328423289744067\n",
            "Epoch #95\n"
          ],
          "name": "stdout"
        },
        {
          "output_type": "stream",
          "text": [
            "-(Training):   0%|          | 0/1875 [00:00<?, ?it/s]"
          ],
          "name": "stderr"
        },
        {
          "output_type": "stream",
          "text": [
            "163.30976927083347 158.98492766520184 4.324841708119709\n",
            "Epoch #96\n"
          ],
          "name": "stdout"
        },
        {
          "output_type": "stream",
          "text": [
            "-(Training):   0%|          | 0/1875 [00:00<?, ?it/s]"
          ],
          "name": "stderr"
        },
        {
          "output_type": "stream",
          "text": [
            "163.30727331136112 158.97767476806652 4.329598488616943\n",
            "Epoch #97\n"
          ],
          "name": "stdout"
        },
        {
          "output_type": "stream",
          "text": [
            "-(Training):   0%|          | 0/1875 [00:00<?, ?it/s]"
          ],
          "name": "stderr"
        },
        {
          "output_type": "stream",
          "text": [
            "163.30680073242164 158.97147588297526 4.3353248761494925\n",
            "Epoch #98\n"
          ],
          "name": "stdout"
        },
        {
          "output_type": "stream",
          "text": [
            "-(Training):   0%|          | 0/1875 [00:00<?, ?it/s]"
          ],
          "name": "stderr"
        },
        {
          "output_type": "stream",
          "text": [
            "163.2880757364909 158.95978748779285 4.3282883021036795\n",
            "Epoch #99\n"
          ],
          "name": "stdout"
        },
        {
          "output_type": "stream",
          "text": [
            "-(Training):   0%|          | 0/1875 [00:00<?, ?it/s]"
          ],
          "name": "stderr"
        },
        {
          "output_type": "stream",
          "text": [
            "163.29255492350265 158.96455734456373 4.32799756317138\n",
            "Epoch #100\n"
          ],
          "name": "stdout"
        },
        {
          "output_type": "stream",
          "text": [
            "-(Training):   0%|          | 0/1875 [00:00<?, ?it/s]"
          ],
          "name": "stderr"
        },
        {
          "output_type": "stream",
          "text": [
            "163.2973343424481 158.96696357014986 4.33037081858317\n",
            "Epoch #101\n"
          ],
          "name": "stdout"
        },
        {
          "output_type": "stream",
          "text": [
            "-(Training):   0%|          | 0/1875 [00:00<?, ?it/s]"
          ],
          "name": "stderr"
        },
        {
          "output_type": "stream",
          "text": [
            "163.2914791137691 158.9599306518553 4.331548516337071\n",
            "Epoch #102\n"
          ],
          "name": "stdout"
        },
        {
          "output_type": "stream",
          "text": [
            "-(Training):   0%|          | 0/1875 [00:00<?, ?it/s]"
          ],
          "name": "stderr"
        },
        {
          "output_type": "stream",
          "text": [
            "163.26094901936833 158.93110749918628 4.329841727193196\n",
            "Epoch #103\n"
          ],
          "name": "stdout"
        },
        {
          "output_type": "stream",
          "text": [
            "-(Training):   0%|          | 0/1875 [00:00<?, ?it/s]"
          ],
          "name": "stderr"
        },
        {
          "output_type": "stream",
          "text": [
            "163.2417848347982 158.91787281901074 4.323912140401204\n",
            "Epoch #104\n"
          ],
          "name": "stdout"
        },
        {
          "output_type": "stream",
          "text": [
            "-(Training):   0%|          | 0/1875 [00:00<?, ?it/s]"
          ],
          "name": "stderr"
        },
        {
          "output_type": "stream",
          "text": [
            "163.26621671549478 158.94048444417325 4.325732310231522\n",
            "Epoch #105\n"
          ],
          "name": "stdout"
        },
        {
          "output_type": "stream",
          "text": [
            "-(Training):   0%|          | 0/1875 [00:00<?, ?it/s]"
          ],
          "name": "stderr"
        },
        {
          "output_type": "stream",
          "text": [
            "163.25343108723973 158.92677455647816 4.3266564389546724\n",
            "Epoch #106\n"
          ],
          "name": "stdout"
        },
        {
          "output_type": "stream",
          "text": [
            "-(Training):   0%|          | 0/1875 [00:00<?, ?it/s]"
          ],
          "name": "stderr"
        },
        {
          "output_type": "stream",
          "text": [
            "163.25214528401705 158.92360944824208 4.328535815429698\n",
            "Epoch #107\n"
          ],
          "name": "stdout"
        },
        {
          "output_type": "stream",
          "text": [
            "-(Training):   0%|          | 0/1875 [00:00<?, ?it/s]"
          ],
          "name": "stderr"
        },
        {
          "output_type": "stream",
          "text": [
            "163.23161190999335 158.90187707926393 4.329734685007742\n",
            "Epoch #108\n"
          ],
          "name": "stdout"
        },
        {
          "output_type": "stream",
          "text": [
            "-(Training):   0%|          | 0/1875 [00:00<?, ?it/s]"
          ],
          "name": "stderr"
        },
        {
          "output_type": "stream",
          "text": [
            "163.2358102010093 158.9087657674154 4.327044216410311\n",
            "Epoch #109\n"
          ],
          "name": "stdout"
        },
        {
          "output_type": "stream",
          "text": [
            "-(Training):   0%|          | 0/1875 [00:00<?, ?it/s]"
          ],
          "name": "stderr"
        },
        {
          "output_type": "stream",
          "text": [
            "163.24140336507176 158.91301637776698 4.328387065124502\n",
            "Epoch #110\n"
          ],
          "name": "stdout"
        },
        {
          "output_type": "stream",
          "text": [
            "-(Training):   0%|          | 0/1875 [00:00<?, ?it/s]"
          ],
          "name": "stderr"
        },
        {
          "output_type": "stream",
          "text": [
            "163.23597319335965 158.90560745035822 4.330365564982092\n",
            "Epoch #111\n"
          ],
          "name": "stdout"
        },
        {
          "output_type": "stream",
          "text": [
            "-(Training):   0%|          | 0/1875 [00:00<?, ?it/s]"
          ],
          "name": "stderr"
        },
        {
          "output_type": "stream",
          "text": [
            "163.2237296834312 158.89586752929668 4.327862045796715\n",
            "Epoch #112\n"
          ],
          "name": "stdout"
        },
        {
          "output_type": "stream",
          "text": [
            "-(Training):   0%|          | 0/1875 [00:00<?, ?it/s]"
          ],
          "name": "stderr"
        },
        {
          "output_type": "stream",
          "text": [
            "163.23098207600924 158.90290274658187 4.328079420725499\n",
            "Epoch #113\n"
          ],
          "name": "stdout"
        },
        {
          "output_type": "stream",
          "text": [
            "-(Training):   0%|          | 0/1875 [00:00<?, ?it/s]"
          ],
          "name": "stderr"
        },
        {
          "output_type": "stream",
          "text": [
            "163.20769716796852 158.87682475992844 4.330872329203281\n",
            "Epoch #114\n"
          ],
          "name": "stdout"
        },
        {
          "output_type": "stream",
          "text": [
            "-(Training):   0%|          | 0/1875 [00:00<?, ?it/s]"
          ],
          "name": "stderr"
        },
        {
          "output_type": "stream",
          "text": [
            "163.2238272379559 158.89499268798806 4.328834626770025\n",
            "Epoch #115\n"
          ],
          "name": "stdout"
        },
        {
          "output_type": "stream",
          "text": [
            "-(Training):   0%|          | 0/1875 [00:00<?, ?it/s]"
          ],
          "name": "stderr"
        },
        {
          "output_type": "stream",
          "text": [
            "163.1728362467448 158.84555574544254 4.327280489857984\n",
            "Epoch #116\n"
          ],
          "name": "stdout"
        },
        {
          "output_type": "stream",
          "text": [
            "-(Training):   0%|          | 0/1875 [00:00<?, ?it/s]"
          ],
          "name": "stderr"
        },
        {
          "output_type": "stream",
          "text": [
            "163.19293104654955 158.8641246459959 4.328806404622388\n",
            "Epoch #117\n"
          ],
          "name": "stdout"
        },
        {
          "output_type": "stream",
          "text": [
            "-(Training):   0%|          | 0/1875 [00:00<?, ?it/s]"
          ],
          "name": "stderr"
        },
        {
          "output_type": "stream",
          "text": [
            "163.18113470458988 158.85232812093093 4.328806474812825\n",
            "Epoch #118\n"
          ],
          "name": "stdout"
        },
        {
          "output_type": "stream",
          "text": [
            "-(Training):   0%|          | 0/1875 [00:00<?, ?it/s]"
          ],
          "name": "stderr"
        },
        {
          "output_type": "stream",
          "text": [
            "163.19463577067097 158.86628721923796 4.328348512268068\n",
            "Epoch #119\n"
          ],
          "name": "stdout"
        },
        {
          "output_type": "stream",
          "text": [
            "-(Training):   0%|          | 0/1875 [00:00<?, ?it/s]"
          ],
          "name": "stderr"
        },
        {
          "output_type": "stream",
          "text": [
            "163.16108850097683 158.83343240559915 4.3276560923258485\n",
            "Epoch #120\n"
          ],
          "name": "stdout"
        },
        {
          "output_type": "stream",
          "text": [
            "-(Training):   0%|          | 0/1875 [00:00<?, ?it/s]"
          ],
          "name": "stderr"
        },
        {
          "output_type": "stream",
          "text": [
            "163.16404317626962 158.83631284993507 4.327730469512943\n",
            "Epoch #121\n"
          ],
          "name": "stdout"
        },
        {
          "output_type": "stream",
          "text": [
            "-(Training):   0%|          | 0/1875 [00:00<?, ?it/s]"
          ],
          "name": "stderr"
        },
        {
          "output_type": "stream",
          "text": [
            "163.16538454996748 158.83821343587275 4.327171046702068\n",
            "Epoch #122\n"
          ],
          "name": "stdout"
        },
        {
          "output_type": "stream",
          "text": [
            "-(Training):   0%|          | 0/1875 [00:00<?, ?it/s]"
          ],
          "name": "stderr"
        },
        {
          "output_type": "stream",
          "text": [
            "163.16727982177738 158.8369935506186 4.330286407725018\n",
            "Epoch #123\n"
          ],
          "name": "stdout"
        },
        {
          "output_type": "stream",
          "text": [
            "-(Training):   0%|          | 0/1875 [00:00<?, ?it/s]"
          ],
          "name": "stderr"
        },
        {
          "output_type": "stream",
          "text": [
            "163.16452172444687 158.83370905354812 4.330812755330403\n",
            "Epoch #124\n"
          ],
          "name": "stdout"
        },
        {
          "output_type": "stream",
          "text": [
            "-(Training):   0%|          | 0/1875 [00:00<?, ?it/s]"
          ],
          "name": "stderr"
        },
        {
          "output_type": "stream",
          "text": [
            "163.14510596923802 158.81642933349625 4.328676734415695\n",
            "Epoch #125\n"
          ],
          "name": "stdout"
        },
        {
          "output_type": "stream",
          "text": [
            "-(Training):   0%|          | 0/1875 [00:00<?, ?it/s]"
          ],
          "name": "stderr"
        },
        {
          "output_type": "stream",
          "text": [
            "163.15250264078776 158.81999209391267 4.332510620880117\n",
            "Epoch #126\n"
          ],
          "name": "stdout"
        },
        {
          "output_type": "stream",
          "text": [
            "-(Training):   0%|          | 0/1875 [00:00<?, ?it/s]"
          ],
          "name": "stderr"
        },
        {
          "output_type": "stream",
          "text": [
            "163.15714322509785 158.8288861287433 4.328257191212978\n",
            "Epoch #127\n"
          ],
          "name": "stdout"
        },
        {
          "output_type": "stream",
          "text": [
            "-(Training):   0%|          | 0/1875 [00:00<?, ?it/s]"
          ],
          "name": "stderr"
        },
        {
          "output_type": "stream",
          "text": [
            "163.1374567504879 158.8100601074219 4.327396515909823\n",
            "Epoch #128\n"
          ],
          "name": "stdout"
        },
        {
          "output_type": "stream",
          "text": [
            "-(Training):   0%|          | 0/1875 [00:00<?, ?it/s]"
          ],
          "name": "stderr"
        },
        {
          "output_type": "stream",
          "text": [
            "163.12364959309923 158.79909285481736 4.324556681060788\n",
            "Epoch #129\n"
          ],
          "name": "stdout"
        },
        {
          "output_type": "stream",
          "text": [
            "-(Training):   0%|          | 0/1875 [00:00<?, ?it/s]"
          ],
          "name": "stderr"
        },
        {
          "output_type": "stream",
          "text": [
            "163.1323441446945 158.80338360595687 4.328960704549153\n",
            "Epoch #130\n"
          ],
          "name": "stdout"
        },
        {
          "output_type": "stream",
          "text": [
            "-(Training):   0%|          | 0/1875 [00:00<?, ?it/s]"
          ],
          "name": "stderr"
        },
        {
          "output_type": "stream",
          "text": [
            "163.14825095621765 158.81824843750016 4.330002533721922\n",
            "Epoch #131\n"
          ],
          "name": "stdout"
        },
        {
          "output_type": "stream",
          "text": [
            "-(Training):   0%|          | 0/1875 [00:00<?, ?it/s]"
          ],
          "name": "stderr"
        },
        {
          "output_type": "stream",
          "text": [
            "163.11563837076835 158.7859254801439 4.329713035837807\n",
            "Epoch #132\n"
          ],
          "name": "stdout"
        },
        {
          "output_type": "stream",
          "text": [
            "-(Training):   0%|          | 0/1875 [00:00<?, ?it/s]"
          ],
          "name": "stderr"
        },
        {
          "output_type": "stream",
          "text": [
            "163.0912332316084 158.76367500406872 4.327558134206132\n",
            "Epoch #133\n"
          ],
          "name": "stdout"
        },
        {
          "output_type": "stream",
          "text": [
            "-(Training):   0%|          | 0/1875 [00:00<?, ?it/s]"
          ],
          "name": "stderr"
        },
        {
          "output_type": "stream",
          "text": [
            "163.11453292643182 158.78998007812515 4.324553063201902\n",
            "Epoch #134\n"
          ],
          "name": "stdout"
        },
        {
          "output_type": "stream",
          "text": [
            "-(Training):   0%|          | 0/1875 [00:00<?, ?it/s]"
          ],
          "name": "stderr"
        },
        {
          "output_type": "stream",
          "text": [
            "163.10638958740216 158.7758998575845 4.330489842987049\n",
            "Epoch #135\n"
          ],
          "name": "stdout"
        },
        {
          "output_type": "stream",
          "text": [
            "-(Training):   0%|          | 0/1875 [00:00<?, ?it/s]"
          ],
          "name": "stderr"
        },
        {
          "output_type": "stream",
          "text": [
            "163.10371184895865 158.77633393961582 4.327377913157143\n",
            "Epoch #136\n"
          ],
          "name": "stdout"
        },
        {
          "output_type": "stream",
          "text": [
            "-(Training):   0%|          | 0/1875 [00:00<?, ?it/s]"
          ],
          "name": "stderr"
        },
        {
          "output_type": "stream",
          "text": [
            "163.08172207438162 158.75102283121748 4.330699181620279\n",
            "Epoch #137\n"
          ],
          "name": "stdout"
        },
        {
          "output_type": "stream",
          "text": [
            "-(Training):   0%|          | 0/1875 [00:00<?, ?it/s]"
          ],
          "name": "stderr"
        },
        {
          "output_type": "stream",
          "text": [
            "163.08941049804693 158.76576411946584 4.323646218617757\n",
            "Epoch #138\n"
          ],
          "name": "stdout"
        },
        {
          "output_type": "stream",
          "text": [
            "-(Training):   0%|          | 0/1875 [00:00<?, ?it/s]"
          ],
          "name": "stderr"
        },
        {
          "output_type": "stream",
          "text": [
            "163.07505921630863 158.75461853434268 4.320440787760415\n",
            "Epoch #139\n"
          ],
          "name": "stdout"
        },
        {
          "output_type": "stream",
          "text": [
            "-(Training):   0%|          | 0/1875 [00:00<?, ?it/s]"
          ],
          "name": "stderr"
        },
        {
          "output_type": "stream",
          "text": [
            "163.0803260660807 158.75855951334663 4.321766447957365\n",
            "Epoch #140\n"
          ],
          "name": "stdout"
        },
        {
          "output_type": "stream",
          "text": [
            "-(Training):   0%|          | 0/1875 [00:00<?, ?it/s]"
          ],
          "name": "stderr"
        },
        {
          "output_type": "stream",
          "text": [
            "163.0696367797851 158.74059688313804 4.329040052032465\n",
            "Epoch #141\n"
          ],
          "name": "stdout"
        },
        {
          "output_type": "stream",
          "text": [
            "-(Training):   0%|          | 0/1875 [00:00<?, ?it/s]"
          ],
          "name": "stderr"
        },
        {
          "output_type": "stream",
          "text": [
            "163.07731432698586 158.7507785441079 4.3265359090169255\n",
            "Epoch #142\n"
          ],
          "name": "stdout"
        },
        {
          "output_type": "stream",
          "text": [
            "-(Training):   0%|          | 0/1875 [00:00<?, ?it/s]"
          ],
          "name": "stderr"
        },
        {
          "output_type": "stream",
          "text": [
            "163.0726326741533 158.74363957926414 4.328993147023525\n",
            "Epoch #143\n"
          ],
          "name": "stdout"
        },
        {
          "output_type": "stream",
          "text": [
            "-(Training):   0%|          | 0/1875 [00:00<?, ?it/s]"
          ],
          "name": "stderr"
        },
        {
          "output_type": "stream",
          "text": [
            "163.06592819417315 158.74069659016914 4.325231676991781\n",
            "Epoch #144\n"
          ],
          "name": "stdout"
        },
        {
          "output_type": "stream",
          "text": [
            "-(Training):   0%|          | 0/1875 [00:00<?, ?it/s]"
          ],
          "name": "stderr"
        },
        {
          "output_type": "stream",
          "text": [
            "163.042946553548 158.71798127441375 4.32496505050659\n",
            "Epoch #145\n"
          ],
          "name": "stdout"
        },
        {
          "output_type": "stream",
          "text": [
            "-(Training):   0%|          | 0/1875 [00:00<?, ?it/s]"
          ],
          "name": "stderr"
        },
        {
          "output_type": "stream",
          "text": [
            "163.06452955729154 158.73536167399095 4.329167950439455\n",
            "Epoch #146\n"
          ],
          "name": "stdout"
        },
        {
          "output_type": "stream",
          "text": [
            "-(Training):   0%|          | 0/1875 [00:00<?, ?it/s]"
          ],
          "name": "stderr"
        },
        {
          "output_type": "stream",
          "text": [
            "163.05325191243517 158.72650718587244 4.326744680531818\n",
            "Epoch #147\n"
          ],
          "name": "stdout"
        },
        {
          "output_type": "stream",
          "text": [
            "-(Training):   0%|          | 0/1875 [00:00<?, ?it/s]"
          ],
          "name": "stderr"
        },
        {
          "output_type": "stream",
          "text": [
            "163.0548836181641 158.72184761962902 4.333035989125565\n",
            "Epoch #148\n"
          ],
          "name": "stdout"
        },
        {
          "output_type": "stream",
          "text": [
            "-(Training):   0%|          | 0/1875 [00:00<?, ?it/s]"
          ],
          "name": "stderr"
        },
        {
          "output_type": "stream",
          "text": [
            "163.06548532714814 158.73448489176445 4.331000414276128\n",
            "Epoch #149\n"
          ],
          "name": "stdout"
        },
        {
          "output_type": "stream",
          "text": [
            "-(Training):   0%|          | 0/1875 [00:00<?, ?it/s]"
          ],
          "name": "stderr"
        },
        {
          "output_type": "stream",
          "text": [
            "163.04121160888684 158.71509176025398 4.326119881947821\n",
            "Epoch #150\n"
          ],
          "name": "stdout"
        },
        {
          "output_type": "stream",
          "text": [
            "-(Training):   0%|          | 0/1875 [00:00<?, ?it/s]"
          ],
          "name": "stderr"
        },
        {
          "output_type": "stream",
          "text": [
            "163.02814725341824 158.69825231933626 4.3298947987874286\n",
            "Epoch #151\n"
          ],
          "name": "stdout"
        },
        {
          "output_type": "stream",
          "text": [
            "-(Training):   0%|          | 0/1875 [00:00<?, ?it/s]"
          ],
          "name": "stderr"
        },
        {
          "output_type": "stream",
          "text": [
            "163.02868491210975 158.69560928955082 4.333075778961181\n",
            "Epoch #152\n"
          ],
          "name": "stdout"
        },
        {
          "output_type": "stream",
          "text": [
            "-(Training):   0%|          | 0/1875 [00:00<?, ?it/s]"
          ],
          "name": "stderr"
        },
        {
          "output_type": "stream",
          "text": [
            "163.01854662272132 158.69052006429018 4.328026565551747\n",
            "Epoch #153\n"
          ],
          "name": "stdout"
        },
        {
          "output_type": "stream",
          "text": [
            "-(Training):   0%|          | 0/1875 [00:00<?, ?it/s]"
          ],
          "name": "stderr"
        },
        {
          "output_type": "stream",
          "text": [
            "163.0242109130855 158.69666927897146 4.327541622161873\n",
            "Epoch #154\n"
          ],
          "name": "stdout"
        },
        {
          "output_type": "stream",
          "text": [
            "-(Training):   0%|          | 0/1875 [00:00<?, ?it/s]"
          ],
          "name": "stderr"
        },
        {
          "output_type": "stream",
          "text": [
            "163.01626398925754 158.6889628417969 4.327301071166994\n",
            "Epoch #155\n"
          ],
          "name": "stdout"
        },
        {
          "output_type": "stream",
          "text": [
            "-(Training):   0%|          | 0/1875 [00:00<?, ?it/s]"
          ],
          "name": "stderr"
        },
        {
          "output_type": "stream",
          "text": [
            "163.01951069742836 158.68809466959615 4.331416071573893\n",
            "Epoch #156\n"
          ],
          "name": "stdout"
        },
        {
          "output_type": "stream",
          "text": [
            "-(Training):   0%|          | 0/1875 [00:00<?, ?it/s]"
          ],
          "name": "stderr"
        },
        {
          "output_type": "stream",
          "text": [
            "163.0049352416991 158.67417084554037 4.330764313507085\n",
            "Epoch #157\n"
          ],
          "name": "stdout"
        },
        {
          "output_type": "stream",
          "text": [
            "-(Training):   0%|          | 0/1875 [00:00<?, ?it/s]"
          ],
          "name": "stderr"
        },
        {
          "output_type": "stream",
          "text": [
            "163.00655796305318 158.67330281982436 4.333255236562095\n",
            "Epoch #158\n"
          ],
          "name": "stdout"
        },
        {
          "output_type": "stream",
          "text": [
            "-(Training):   0%|          | 0/1875 [00:00<?, ?it/s]"
          ],
          "name": "stderr"
        },
        {
          "output_type": "stream",
          "text": [
            "162.98898215332017 158.65832886149124 4.330653345489501\n",
            "Epoch #159\n"
          ],
          "name": "stdout"
        },
        {
          "output_type": "stream",
          "text": [
            "-(Training):   0%|          | 0/1875 [00:00<?, ?it/s]"
          ],
          "name": "stderr"
        },
        {
          "output_type": "stream",
          "text": [
            "162.99678408203118 158.6661045776366 4.330679437001542\n",
            "Epoch #160\n"
          ],
          "name": "stdout"
        },
        {
          "output_type": "stream",
          "text": [
            "-(Training):   0%|          | 0/1875 [00:00<?, ?it/s]"
          ],
          "name": "stderr"
        },
        {
          "output_type": "stream",
          "text": [
            "162.9879660522457 158.66111288655608 4.326853251139332\n",
            "Epoch #161\n"
          ],
          "name": "stdout"
        },
        {
          "output_type": "stream",
          "text": [
            "-(Training):   0%|          | 0/1875 [00:00<?, ?it/s]"
          ],
          "name": "stderr"
        },
        {
          "output_type": "stream",
          "text": [
            "162.98332299804645 158.65571458740226 4.327608324941003\n",
            "Epoch #162\n"
          ],
          "name": "stdout"
        },
        {
          "output_type": "stream",
          "text": [
            "-(Training):   0%|          | 0/1875 [00:00<?, ?it/s]"
          ],
          "name": "stderr"
        },
        {
          "output_type": "stream",
          "text": [
            "162.98436958414695 158.658126298014 4.326243278503416\n",
            "Epoch #163\n"
          ],
          "name": "stdout"
        },
        {
          "output_type": "stream",
          "text": [
            "-(Training):   0%|          | 0/1875 [00:00<?, ?it/s]"
          ],
          "name": "stderr"
        },
        {
          "output_type": "stream",
          "text": [
            "162.96424631754584 158.63711256510422 4.327133662923176\n",
            "Epoch #164\n"
          ],
          "name": "stdout"
        },
        {
          "output_type": "stream",
          "text": [
            "-(Training):   0%|          | 0/1875 [00:00<?, ?it/s]"
          ],
          "name": "stderr"
        },
        {
          "output_type": "stream",
          "text": [
            "162.97876676025408 158.65546789143878 4.323298782094325\n",
            "Epoch #165\n"
          ],
          "name": "stdout"
        },
        {
          "output_type": "stream",
          "text": [
            "-(Training):   0%|          | 0/1875 [00:00<?, ?it/s]"
          ],
          "name": "stderr"
        },
        {
          "output_type": "stream",
          "text": [
            "162.94494121093746 158.62205146484354 4.322889979044598\n",
            "Epoch #166\n"
          ],
          "name": "stdout"
        },
        {
          "output_type": "stream",
          "text": [
            "-(Training):   0%|          | 0/1875 [00:00<?, ?it/s]"
          ],
          "name": "stderr"
        },
        {
          "output_type": "stream",
          "text": [
            "162.9698803792317 158.63850346272787 4.331376901245125\n",
            "Epoch #167\n"
          ],
          "name": "stdout"
        },
        {
          "output_type": "stream",
          "text": [
            "-(Training):   0%|          | 0/1875 [00:00<?, ?it/s]"
          ],
          "name": "stderr"
        },
        {
          "output_type": "stream",
          "text": [
            "162.96432768147784 158.63780690104142 4.32652075093587\n",
            "Epoch #168\n"
          ],
          "name": "stdout"
        },
        {
          "output_type": "stream",
          "text": [
            "-(Training):   0%|          | 0/1875 [00:00<?, ?it/s]"
          ],
          "name": "stderr"
        },
        {
          "output_type": "stream",
          "text": [
            "162.93986826578762 158.61467334798166 4.325194791920978\n",
            "Epoch #169\n"
          ],
          "name": "stdout"
        },
        {
          "output_type": "stream",
          "text": [
            "-(Training):   0%|          | 0/1875 [00:00<?, ?it/s]"
          ],
          "name": "stderr"
        },
        {
          "output_type": "stream",
          "text": [
            "162.96782073567726 158.6361641479489 4.331656525929768\n",
            "Epoch #170\n"
          ],
          "name": "stdout"
        },
        {
          "output_type": "stream",
          "text": [
            "-(Training):   0%|          | 0/1875 [00:00<?, ?it/s]"
          ],
          "name": "stderr"
        },
        {
          "output_type": "stream",
          "text": [
            "162.95410134684283 158.6242853271483 4.32981618703207\n",
            "Epoch #171\n"
          ],
          "name": "stdout"
        },
        {
          "output_type": "stream",
          "text": [
            "-(Training):   0%|          | 0/1875 [00:00<?, ?it/s]"
          ],
          "name": "stderr"
        },
        {
          "output_type": "stream",
          "text": [
            "162.93944662679033 158.61496931152354 4.324477280426014\n",
            "Epoch #172\n"
          ],
          "name": "stdout"
        },
        {
          "output_type": "stream",
          "text": [
            "-(Training):   0%|          | 0/1875 [00:00<?, ?it/s]"
          ],
          "name": "stderr"
        },
        {
          "output_type": "stream",
          "text": [
            "162.93187390950538 158.61202216796895 4.319851766967768\n",
            "Epoch #173\n"
          ],
          "name": "stdout"
        },
        {
          "output_type": "stream",
          "text": [
            "-(Training):   0%|          | 0/1875 [00:00<?, ?it/s]"
          ],
          "name": "stderr"
        },
        {
          "output_type": "stream",
          "text": [
            "162.94187602945988 158.61358122558616 4.328294794972734\n",
            "Epoch #174\n"
          ],
          "name": "stdout"
        },
        {
          "output_type": "stream",
          "text": [
            "-(Training):   0%|          | 0/1875 [00:00<?, ?it/s]"
          ],
          "name": "stderr"
        },
        {
          "output_type": "stream",
          "text": [
            "162.92179224446596 158.58830314127624 4.333489055887852\n",
            "Epoch #175\n"
          ],
          "name": "stdout"
        },
        {
          "output_type": "stream",
          "text": [
            "-(Training):   0%|          | 0/1875 [00:00<?, ?it/s]"
          ],
          "name": "stderr"
        },
        {
          "output_type": "stream",
          "text": [
            "162.92039063720705 158.59474772135457 4.325642864990239\n",
            "Epoch #176\n"
          ],
          "name": "stdout"
        },
        {
          "output_type": "stream",
          "text": [
            "-(Training):   0%|          | 0/1875 [00:00<?, ?it/s]"
          ],
          "name": "stderr"
        },
        {
          "output_type": "stream",
          "text": [
            "162.9171309733073 158.58989921468105 4.327231623586026\n",
            "Epoch #177\n"
          ],
          "name": "stdout"
        },
        {
          "output_type": "stream",
          "text": [
            "-(Training):   0%|          | 0/1875 [00:00<?, ?it/s]"
          ],
          "name": "stderr"
        },
        {
          "output_type": "stream",
          "text": [
            "162.9306783772783 158.60095465087895 4.329723638916009\n",
            "Epoch #178\n"
          ],
          "name": "stdout"
        },
        {
          "output_type": "stream",
          "text": [
            "-(Training):   0%|          | 0/1875 [00:00<?, ?it/s]"
          ],
          "name": "stderr"
        },
        {
          "output_type": "stream",
          "text": [
            "162.91248744303402 158.5812804158531 4.331206890360515\n",
            "Epoch #179\n"
          ],
          "name": "stdout"
        },
        {
          "output_type": "stream",
          "text": [
            "-(Training):   0%|          | 0/1875 [00:00<?, ?it/s]"
          ],
          "name": "stderr"
        },
        {
          "output_type": "stream",
          "text": [
            "162.91806785888662 158.58625075683562 4.331817272949223\n",
            "Epoch #180\n"
          ],
          "name": "stdout"
        },
        {
          "output_type": "stream",
          "text": [
            "-(Training):   0%|          | 0/1875 [00:00<?, ?it/s]"
          ],
          "name": "stderr"
        },
        {
          "output_type": "stream",
          "text": [
            "162.911113972982 158.58319551595025 4.327918520609544\n",
            "Epoch #181\n"
          ],
          "name": "stdout"
        },
        {
          "output_type": "stream",
          "text": [
            "-(Training):   0%|          | 0/1875 [00:00<?, ?it/s]"
          ],
          "name": "stderr"
        },
        {
          "output_type": "stream",
          "text": [
            "162.90417660319022 158.57631153971363 4.32786491826375\n",
            "Epoch #182\n"
          ],
          "name": "stdout"
        },
        {
          "output_type": "stream",
          "text": [
            "-(Training):   0%|          | 0/1875 [00:00<?, ?it/s]"
          ],
          "name": "stderr"
        },
        {
          "output_type": "stream",
          "text": [
            "162.8918380900067 158.56251225585936 4.3293259465535465\n",
            "Epoch #183\n"
          ],
          "name": "stdout"
        },
        {
          "output_type": "stream",
          "text": [
            "-(Training):   0%|          | 0/1875 [00:00<?, ?it/s]"
          ],
          "name": "stderr"
        },
        {
          "output_type": "stream",
          "text": [
            "162.8842371622723 158.55955364990194 4.32468357874552\n",
            "Epoch #184\n"
          ],
          "name": "stdout"
        },
        {
          "output_type": "stream",
          "text": [
            "-(Training):   0%|          | 0/1875 [00:00<?, ?it/s]"
          ],
          "name": "stderr"
        },
        {
          "output_type": "stream",
          "text": [
            "162.90038457845034 158.57356398111966 4.326820735422767\n",
            "Epoch #185\n"
          ],
          "name": "stdout"
        },
        {
          "output_type": "stream",
          "text": [
            "-(Training):   0%|          | 0/1875 [00:00<?, ?it/s]"
          ],
          "name": "stderr"
        },
        {
          "output_type": "stream",
          "text": [
            "162.88470559488945 158.55680868733737 4.327896905517591\n",
            "Epoch #186\n"
          ],
          "name": "stdout"
        },
        {
          "output_type": "stream",
          "text": [
            "-(Training):   0%|          | 0/1875 [00:00<?, ?it/s]"
          ],
          "name": "stderr"
        },
        {
          "output_type": "stream",
          "text": [
            "162.8853040486653 158.56036280110692 4.324941125233966\n",
            "Epoch #187\n"
          ],
          "name": "stdout"
        },
        {
          "output_type": "stream",
          "text": [
            "-(Training):   0%|          | 0/1875 [00:00<?, ?it/s]"
          ],
          "name": "stderr"
        },
        {
          "output_type": "stream",
          "text": [
            "162.89737164306638 158.57146264241504 4.325908961232499\n",
            "Epoch #188\n"
          ],
          "name": "stdout"
        },
        {
          "output_type": "stream",
          "text": [
            "-(Training):   0%|          | 0/1875 [00:00<?, ?it/s]"
          ],
          "name": "stderr"
        },
        {
          "output_type": "stream",
          "text": [
            "162.87100002848328 158.54636994221985 4.3246302017211935\n",
            "Epoch #189\n"
          ],
          "name": "stdout"
        },
        {
          "output_type": "stream",
          "text": [
            "-(Training):   0%|          | 0/1875 [00:00<?, ?it/s]"
          ],
          "name": "stderr"
        },
        {
          "output_type": "stream",
          "text": [
            "162.87257893880187 158.54039673258453 4.332182211558017\n",
            "Epoch #190\n"
          ],
          "name": "stdout"
        },
        {
          "output_type": "stream",
          "text": [
            "-(Training):   0%|          | 0/1875 [00:00<?, ?it/s]"
          ],
          "name": "stderr"
        },
        {
          "output_type": "stream",
          "text": [
            "162.8773756795247 158.5502461629233 4.327129600270584\n",
            "Epoch #191\n"
          ],
          "name": "stdout"
        },
        {
          "output_type": "stream",
          "text": [
            "-(Training):   0%|          | 0/1875 [00:00<?, ?it/s]"
          ],
          "name": "stderr"
        },
        {
          "output_type": "stream",
          "text": [
            "162.88358928222698 158.55152263183606 4.332066791534424\n",
            "Epoch #192\n"
          ],
          "name": "stdout"
        },
        {
          "output_type": "stream",
          "text": [
            "-(Training):   0%|          | 0/1875 [00:00<?, ?it/s]"
          ],
          "name": "stderr"
        },
        {
          "output_type": "stream",
          "text": [
            "162.86144808756495 158.5341326578778 4.327315390268953\n",
            "Epoch #193\n"
          ],
          "name": "stdout"
        },
        {
          "output_type": "stream",
          "text": [
            "-(Training):   0%|          | 0/1875 [00:00<?, ?it/s]"
          ],
          "name": "stderr"
        },
        {
          "output_type": "stream",
          "text": [
            "162.8765567749023 158.54999344889305 4.326563415273035\n",
            "Epoch #194\n"
          ],
          "name": "stdout"
        },
        {
          "output_type": "stream",
          "text": [
            "-(Training):   0%|          | 0/1875 [00:00<?, ?it/s]"
          ],
          "name": "stderr"
        },
        {
          "output_type": "stream",
          "text": [
            "162.86105758870426 158.53333910725945 4.327718380228671\n",
            "Epoch #195\n"
          ],
          "name": "stdout"
        },
        {
          "output_type": "stream",
          "text": [
            "-(Training):   0%|          | 0/1875 [00:00<?, ?it/s]"
          ],
          "name": "stderr"
        },
        {
          "output_type": "stream",
          "text": [
            "162.8603209309894 158.53379292805985 4.326528042856854\n",
            "Epoch #196\n"
          ],
          "name": "stdout"
        },
        {
          "output_type": "stream",
          "text": [
            "-(Training):   0%|          | 0/1875 [00:00<?, ?it/s]"
          ],
          "name": "stderr"
        },
        {
          "output_type": "stream",
          "text": [
            "162.83960891113264 158.5121625122068 4.327446457672112\n",
            "Epoch #197\n"
          ],
          "name": "stdout"
        },
        {
          "output_type": "stream",
          "text": [
            "-(Training):   0%|          | 0/1875 [00:00<?, ?it/s]"
          ],
          "name": "stderr"
        },
        {
          "output_type": "stream",
          "text": [
            "162.8481954956054 158.51429636637366 4.33389915771485\n",
            "Epoch #198\n"
          ],
          "name": "stdout"
        },
        {
          "output_type": "stream",
          "text": [
            "-(Training):   0%|          | 0/1875 [00:00<?, ?it/s]"
          ],
          "name": "stderr"
        },
        {
          "output_type": "stream",
          "text": [
            "162.8241174804688 158.4993139567058 4.324803654988612\n",
            "Epoch #199\n"
          ],
          "name": "stdout"
        },
        {
          "output_type": "stream",
          "text": [
            "-(Training):   0%|          | 0/1875 [00:00<?, ?it/s]"
          ],
          "name": "stderr"
        },
        {
          "output_type": "stream",
          "text": [
            "162.8460618570964 158.51649783121758 4.3295639668782595\n",
            "Epoch #200\n"
          ],
          "name": "stdout"
        },
        {
          "output_type": "stream",
          "text": [
            "-(Training):   0%|          | 0/1875 [00:00<?, ?it/s]"
          ],
          "name": "stderr"
        },
        {
          "output_type": "stream",
          "text": [
            "162.84049541015634 158.51168005777993 4.328815408070881\n",
            "Epoch #201\n"
          ],
          "name": "stdout"
        },
        {
          "output_type": "stream",
          "text": [
            "-(Training):   0%|          | 0/1875 [00:00<?, ?it/s]"
          ],
          "name": "stderr"
        },
        {
          "output_type": "stream",
          "text": [
            "162.85511998697925 158.52519858398426 4.329921258036296\n",
            "Epoch #202\n"
          ],
          "name": "stdout"
        },
        {
          "output_type": "stream",
          "text": [
            "-(Training):   0%|          | 0/1875 [00:00<?, ?it/s]"
          ],
          "name": "stderr"
        },
        {
          "output_type": "stream",
          "text": [
            "162.8491118286134 158.51895267333992 4.330159269714363\n",
            "Epoch #203\n"
          ],
          "name": "stdout"
        },
        {
          "output_type": "stream",
          "text": [
            "-(Training):   0%|          | 0/1875 [00:00<?, ?it/s]"
          ],
          "name": "stderr"
        },
        {
          "output_type": "stream",
          "text": [
            "162.83850948079422 158.50793162841754 4.330577864583326\n",
            "Epoch #204\n"
          ],
          "name": "stdout"
        },
        {
          "output_type": "stream",
          "text": [
            "-(Training):   0%|          | 0/1875 [00:00<?, ?it/s]"
          ],
          "name": "stderr"
        },
        {
          "output_type": "stream",
          "text": [
            "162.83472487792955 158.50274003906242 4.331984776306146\n",
            "Epoch #205\n"
          ],
          "name": "stdout"
        },
        {
          "output_type": "stream",
          "text": [
            "-(Training):   0%|          | 0/1875 [00:00<?, ?it/s]"
          ],
          "name": "stderr"
        },
        {
          "output_type": "stream",
          "text": [
            "162.82868161621107 158.49904750976557 4.329634334309897\n",
            "Epoch #206\n"
          ],
          "name": "stdout"
        },
        {
          "output_type": "stream",
          "text": [
            "-(Training):   0%|          | 0/1875 [00:00<?, ?it/s]"
          ],
          "name": "stderr"
        },
        {
          "output_type": "stream",
          "text": [
            "162.82684600016262 158.499108170573 4.327737744649253\n",
            "Epoch #207\n"
          ],
          "name": "stdout"
        },
        {
          "output_type": "stream",
          "text": [
            "-(Training):   0%|          | 0/1875 [00:00<?, ?it/s]"
          ],
          "name": "stderr"
        },
        {
          "output_type": "stream",
          "text": [
            "162.80915637207028 158.47842883300743 4.330727498372397\n",
            "Epoch #208\n"
          ],
          "name": "stdout"
        },
        {
          "output_type": "stream",
          "text": [
            "-(Training):   0%|          | 0/1875 [00:00<?, ?it/s]"
          ],
          "name": "stderr"
        },
        {
          "output_type": "stream",
          "text": [
            "162.8263218505859 158.49899790039038 4.327323955027263\n",
            "Epoch #209\n"
          ],
          "name": "stdout"
        },
        {
          "output_type": "stream",
          "text": [
            "-(Training):   0%|          | 0/1875 [00:00<?, ?it/s]"
          ],
          "name": "stderr"
        },
        {
          "output_type": "stream",
          "text": [
            "162.8177725138342 158.48946475830112 4.328307692718507\n",
            "Epoch #210\n"
          ],
          "name": "stdout"
        },
        {
          "output_type": "stream",
          "text": [
            "-(Training):   0%|          | 0/1875 [00:00<?, ?it/s]"
          ],
          "name": "stderr"
        },
        {
          "output_type": "stream",
          "text": [
            "162.80782346191415 158.48427708740243 4.3235462369283075\n",
            "Epoch #211\n"
          ],
          "name": "stdout"
        },
        {
          "output_type": "stream",
          "text": [
            "-(Training):   0%|          | 0/1875 [00:00<?, ?it/s]"
          ],
          "name": "stderr"
        },
        {
          "output_type": "stream",
          "text": [
            "162.78874011637373 158.4613451334634 4.327394878641763\n",
            "Epoch #212\n"
          ],
          "name": "stdout"
        },
        {
          "output_type": "stream",
          "text": [
            "-(Training):   0%|          | 0/1875 [00:00<?, ?it/s]"
          ],
          "name": "stderr"
        },
        {
          "output_type": "stream",
          "text": [
            "162.80132551269514 158.47731542968765 4.324010098012289\n",
            "Epoch #213\n"
          ],
          "name": "stdout"
        },
        {
          "output_type": "stream",
          "text": [
            "-(Training):   0%|          | 0/1875 [00:00<?, ?it/s]"
          ],
          "name": "stderr"
        },
        {
          "output_type": "stream",
          "text": [
            "162.7894530680337 158.46524476725276 4.3242082298278826\n",
            "Epoch #214\n"
          ],
          "name": "stdout"
        },
        {
          "output_type": "stream",
          "text": [
            "-(Training):   0%|          | 0/1875 [00:00<?, ?it/s]"
          ],
          "name": "stderr"
        },
        {
          "output_type": "stream",
          "text": [
            "162.78982152506484 158.4680498168945 4.321771723429362\n",
            "Epoch #215\n"
          ],
          "name": "stdout"
        },
        {
          "output_type": "stream",
          "text": [
            "-(Training):   0%|          | 0/1875 [00:00<?, ?it/s]"
          ],
          "name": "stderr"
        },
        {
          "output_type": "stream",
          "text": [
            "162.79002915445972 158.46502341308593 4.325005757649738\n",
            "Epoch #216\n"
          ],
          "name": "stdout"
        },
        {
          "output_type": "stream",
          "text": [
            "-(Training):   0%|          | 0/1875 [00:00<?, ?it/s]"
          ],
          "name": "stderr"
        },
        {
          "output_type": "stream",
          "text": [
            "162.80198065592458 158.471952856445 4.330027856953933\n",
            "Epoch #217\n"
          ],
          "name": "stdout"
        },
        {
          "output_type": "stream",
          "text": [
            "-(Training):   0%|          | 0/1875 [00:00<?, ?it/s]"
          ],
          "name": "stderr"
        },
        {
          "output_type": "stream",
          "text": [
            "162.77663524983728 158.45023752034507 4.326397756703699\n",
            "Epoch #218\n"
          ],
          "name": "stdout"
        },
        {
          "output_type": "stream",
          "text": [
            "-(Training):   0%|          | 0/1875 [00:00<?, ?it/s]"
          ],
          "name": "stderr"
        },
        {
          "output_type": "stream",
          "text": [
            "162.79299146321614 158.4668838419594 4.3261076057434025\n",
            "Epoch #219\n"
          ],
          "name": "stdout"
        },
        {
          "output_type": "stream",
          "text": [
            "-(Training):   0%|          | 0/1875 [00:00<?, ?it/s]"
          ],
          "name": "stderr"
        },
        {
          "output_type": "stream",
          "text": [
            "162.75791763916044 158.43541059977215 4.322507161712635\n",
            "Epoch #220\n"
          ],
          "name": "stdout"
        },
        {
          "output_type": "stream",
          "text": [
            "-(Training):   0%|          | 0/1875 [00:00<?, ?it/s]"
          ],
          "name": "stderr"
        },
        {
          "output_type": "stream",
          "text": [
            "162.77113182373037 158.4487019531251 4.32242982762655\n",
            "Epoch #221\n"
          ],
          "name": "stdout"
        },
        {
          "output_type": "stream",
          "text": [
            "-(Training):   0%|          | 0/1875 [00:00<?, ?it/s]"
          ],
          "name": "stderr"
        },
        {
          "output_type": "stream",
          "text": [
            "162.77849226481118 158.45077114664716 4.327721119435632\n",
            "Epoch #222\n"
          ],
          "name": "stdout"
        },
        {
          "output_type": "stream",
          "text": [
            "-(Training):   0%|          | 0/1875 [00:00<?, ?it/s]"
          ],
          "name": "stderr"
        },
        {
          "output_type": "stream",
          "text": [
            "162.80157631022144 158.4734350952148 4.328141303253172\n",
            "Epoch #223\n"
          ],
          "name": "stdout"
        },
        {
          "output_type": "stream",
          "text": [
            "-(Training):   0%|          | 0/1875 [00:00<?, ?it/s]"
          ],
          "name": "stderr"
        },
        {
          "output_type": "stream",
          "text": [
            "162.77513724365215 158.44352503255223 4.331612262471522\n",
            "Epoch #224\n"
          ],
          "name": "stdout"
        },
        {
          "output_type": "stream",
          "text": [
            "-(Training):   0%|          | 0/1875 [00:00<?, ?it/s]"
          ],
          "name": "stderr"
        },
        {
          "output_type": "stream",
          "text": [
            "162.7739690511068 158.4433856608071 4.330583355712888\n",
            "Epoch #225\n"
          ],
          "name": "stdout"
        },
        {
          "output_type": "stream",
          "text": [
            "-(Training):   0%|          | 0/1875 [00:00<?, ?it/s]"
          ],
          "name": "stderr"
        },
        {
          "output_type": "stream",
          "text": [
            "162.78056142578114 158.45086810709648 4.329693348693839\n",
            "Epoch #226\n"
          ],
          "name": "stdout"
        },
        {
          "output_type": "stream",
          "text": [
            "-(Training):   0%|          | 0/1875 [00:00<?, ?it/s]"
          ],
          "name": "stderr"
        },
        {
          "output_type": "stream",
          "text": [
            "162.75876523437523 158.42698416341125 4.331781010691328\n",
            "Epoch #227\n"
          ],
          "name": "stdout"
        },
        {
          "output_type": "stream",
          "text": [
            "-(Training):   0%|          | 0/1875 [00:00<?, ?it/s]"
          ],
          "name": "stderr"
        },
        {
          "output_type": "stream",
          "text": [
            "162.75873583170568 158.4304060058594 4.328329964701332\n",
            "Epoch #228\n"
          ],
          "name": "stdout"
        },
        {
          "output_type": "stream",
          "text": [
            "-(Training):   0%|          | 0/1875 [00:00<?, ?it/s]"
          ],
          "name": "stderr"
        },
        {
          "output_type": "stream",
          "text": [
            "162.7507428141277 158.42310734456373 4.3276355133056645\n",
            "Epoch #229\n"
          ],
          "name": "stdout"
        },
        {
          "output_type": "stream",
          "text": [
            "-(Training):   0%|          | 0/1875 [00:00<?, ?it/s]"
          ],
          "name": "stderr"
        },
        {
          "output_type": "stream",
          "text": [
            "162.76352972412116 158.439722306315 4.3238075030009\n",
            "Epoch #230\n"
          ],
          "name": "stdout"
        },
        {
          "output_type": "stream",
          "text": [
            "-(Training):   0%|          | 0/1875 [00:00<?, ?it/s]"
          ],
          "name": "stderr"
        },
        {
          "output_type": "stream",
          "text": [
            "162.7498633015949 158.423606351725 4.326256961059575\n",
            "Epoch #231\n"
          ],
          "name": "stdout"
        },
        {
          "output_type": "stream",
          "text": [
            "-(Training):   0%|          | 0/1875 [00:00<?, ?it/s]"
          ],
          "name": "stderr"
        },
        {
          "output_type": "stream",
          "text": [
            "162.73706752522796 158.41444715169254 4.322620418294281\n",
            "Epoch #232\n"
          ],
          "name": "stdout"
        },
        {
          "output_type": "stream",
          "text": [
            "-(Training):   0%|          | 0/1875 [00:00<?, ?it/s]"
          ],
          "name": "stderr"
        },
        {
          "output_type": "stream",
          "text": [
            "162.72387267252614 158.40528047688795 4.318592255401613\n",
            "Epoch #233\n"
          ],
          "name": "stdout"
        },
        {
          "output_type": "stream",
          "text": [
            "-(Training):   0%|          | 0/1875 [00:00<?, ?it/s]"
          ],
          "name": "stderr"
        },
        {
          "output_type": "stream",
          "text": [
            "162.7400529785158 158.41249857584623 4.327554386393221\n",
            "Epoch #234\n"
          ],
          "name": "stdout"
        },
        {
          "output_type": "stream",
          "text": [
            "-(Training):   0%|          | 0/1875 [00:00<?, ?it/s]"
          ],
          "name": "stderr"
        },
        {
          "output_type": "stream",
          "text": [
            "162.73113856608092 158.40247722574867 4.328661431121827\n",
            "Epoch #235\n"
          ],
          "name": "stdout"
        },
        {
          "output_type": "stream",
          "text": [
            "-(Training):   0%|          | 0/1875 [00:00<?, ?it/s]"
          ],
          "name": "stderr"
        },
        {
          "output_type": "stream",
          "text": [
            "162.7110893758138 158.3859392496743 4.32515018030803\n",
            "Epoch #236\n"
          ],
          "name": "stdout"
        },
        {
          "output_type": "stream",
          "text": [
            "-(Training):   0%|          | 0/1875 [00:00<?, ?it/s]"
          ],
          "name": "stderr"
        },
        {
          "output_type": "stream",
          "text": [
            "162.72712739664723 158.4060110310872 4.321116419982906\n",
            "Epoch #237\n"
          ],
          "name": "stdout"
        },
        {
          "output_type": "stream",
          "text": [
            "-(Training):   0%|          | 0/1875 [00:00<?, ?it/s]"
          ],
          "name": "stderr"
        },
        {
          "output_type": "stream",
          "text": [
            "162.7398696004229 158.4118462809243 4.328023309834794\n",
            "Epoch #238\n"
          ],
          "name": "stdout"
        },
        {
          "output_type": "stream",
          "text": [
            "-(Training):   0%|          | 0/1875 [00:00<?, ?it/s]"
          ],
          "name": "stderr"
        },
        {
          "output_type": "stream",
          "text": [
            "162.72085882161466 158.39443323160802 4.326425546010336\n",
            "Epoch #239\n"
          ],
          "name": "stdout"
        },
        {
          "output_type": "stream",
          "text": [
            "-(Training):   0%|          | 0/1875 [00:00<?, ?it/s]"
          ],
          "name": "stderr"
        },
        {
          "output_type": "stream",
          "text": [
            "162.7234469645185 158.3971738240558 4.326273139444978\n",
            "Epoch #240\n"
          ],
          "name": "stdout"
        },
        {
          "output_type": "stream",
          "text": [
            "-(Training):   0%|          | 0/1875 [00:00<?, ?it/s]"
          ],
          "name": "stderr"
        },
        {
          "output_type": "stream",
          "text": [
            "162.69857590738948 158.37578545328768 4.322790334320069\n",
            "Epoch #241\n"
          ],
          "name": "stdout"
        },
        {
          "output_type": "stream",
          "text": [
            "-(Training):   0%|          | 0/1875 [00:00<?, ?it/s]"
          ],
          "name": "stderr"
        },
        {
          "output_type": "stream",
          "text": [
            "162.71223216552713 158.3854055216474 4.32682680206298\n",
            "Epoch #242\n"
          ],
          "name": "stdout"
        },
        {
          "output_type": "stream",
          "text": [
            "-(Training):   0%|          | 0/1875 [00:00<?, ?it/s]"
          ],
          "name": "stderr"
        },
        {
          "output_type": "stream",
          "text": [
            "162.72787816162133 158.40649684651686 4.321381440734863\n",
            "Epoch #243\n"
          ],
          "name": "stdout"
        },
        {
          "output_type": "stream",
          "text": [
            "-(Training):   0%|          | 0/1875 [00:00<?, ?it/s]"
          ],
          "name": "stderr"
        },
        {
          "output_type": "stream",
          "text": [
            "162.7010487345376 158.3711171997071 4.329931449635827\n",
            "Epoch #244\n"
          ],
          "name": "stdout"
        },
        {
          "output_type": "stream",
          "text": [
            "-(Training):   0%|          | 0/1875 [00:00<?, ?it/s]"
          ],
          "name": "stderr"
        },
        {
          "output_type": "stream",
          "text": [
            "162.6784671468099 158.35643570149747 4.3220313911438\n",
            "Epoch #245\n"
          ],
          "name": "stdout"
        },
        {
          "output_type": "stream",
          "text": [
            "-(Training):   0%|          | 0/1875 [00:00<?, ?it/s]"
          ],
          "name": "stderr"
        },
        {
          "output_type": "stream",
          "text": [
            "162.6928114583332 158.36670057779912 4.326110765838633\n",
            "Epoch #246\n"
          ],
          "name": "stdout"
        },
        {
          "output_type": "stream",
          "text": [
            "-(Training):   0%|          | 0/1875 [00:00<?, ?it/s]"
          ],
          "name": "stderr"
        },
        {
          "output_type": "stream",
          "text": [
            "162.69269079589859 158.36658596191413 4.326104992421474\n",
            "Epoch #247\n"
          ],
          "name": "stdout"
        },
        {
          "output_type": "stream",
          "text": [
            "-(Training):   0%|          | 0/1875 [00:00<?, ?it/s]"
          ],
          "name": "stderr"
        },
        {
          "output_type": "stream",
          "text": [
            "162.7004800292968 158.37585996500695 4.32462016270956\n",
            "Epoch #248\n"
          ],
          "name": "stdout"
        },
        {
          "output_type": "stream",
          "text": [
            "-(Training):   0%|          | 0/1875 [00:00<?, ?it/s]"
          ],
          "name": "stderr"
        },
        {
          "output_type": "stream",
          "text": [
            "162.69308607991547 158.3668502034505 4.32623616154989\n",
            "Epoch #249\n"
          ],
          "name": "stdout"
        },
        {
          "output_type": "stream",
          "text": [
            "-(Training):   0%|          | 0/1875 [00:00<?, ?it/s]"
          ],
          "name": "stderr"
        },
        {
          "output_type": "stream",
          "text": [
            "162.70335507812504 158.3743755208333 4.3289797360738165\n",
            "Epoch #250\n"
          ],
          "name": "stdout"
        },
        {
          "output_type": "stream",
          "text": [
            "-(Training):   0%|          | 0/1875 [00:00<?, ?it/s]"
          ],
          "name": "stderr"
        },
        {
          "output_type": "stream",
          "text": [
            "162.66172357584648 158.33302154947893 4.328702094014482\n",
            "Epoch #251\n"
          ],
          "name": "stdout"
        },
        {
          "output_type": "stream",
          "text": [
            "-(Training):   0%|          | 0/1875 [00:00<?, ?it/s]"
          ],
          "name": "stderr"
        },
        {
          "output_type": "stream",
          "text": [
            "162.6660437744143 158.34847621663386 4.31756765365601\n",
            "Epoch #252\n"
          ],
          "name": "stdout"
        },
        {
          "output_type": "stream",
          "text": [
            "-(Training):   0%|          | 0/1875 [00:00<?, ?it/s]"
          ],
          "name": "stderr"
        },
        {
          "output_type": "stream",
          "text": [
            "162.6699927205405 158.34830850016303 4.321684267934169\n",
            "Epoch #253\n"
          ],
          "name": "stdout"
        },
        {
          "output_type": "stream",
          "text": [
            "-(Training):   0%|          | 0/1875 [00:00<?, ?it/s]"
          ],
          "name": "stderr"
        },
        {
          "output_type": "stream",
          "text": [
            "162.66699717203775 158.3480284545899 4.31896858113607\n",
            "Epoch #254\n"
          ],
          "name": "stdout"
        },
        {
          "output_type": "stream",
          "text": [
            "-(Training):   0%|          | 0/1875 [00:00<?, ?it/s]"
          ],
          "name": "stderr"
        },
        {
          "output_type": "stream",
          "text": [
            "162.68157743326813 158.3603743367513 4.321203100840252\n",
            "Epoch #255\n"
          ],
          "name": "stdout"
        },
        {
          "output_type": "stream",
          "text": [
            "-(Training):   0%|          | 0/1875 [00:00<?, ?it/s]"
          ],
          "name": "stderr"
        },
        {
          "output_type": "stream",
          "text": [
            "162.6730089680987 158.34845095621728 4.324558133443202\n",
            "Epoch #256\n"
          ],
          "name": "stdout"
        },
        {
          "output_type": "stream",
          "text": [
            "-(Training):   0%|          | 0/1875 [00:00<?, ?it/s]"
          ],
          "name": "stderr"
        },
        {
          "output_type": "stream",
          "text": [
            "162.68401239013653 158.35391007486973 4.330102436828605\n",
            "Epoch #257\n"
          ],
          "name": "stdout"
        },
        {
          "output_type": "stream",
          "text": [
            "-(Training):   0%|          | 0/1875 [00:00<?, ?it/s]"
          ],
          "name": "stderr"
        },
        {
          "output_type": "stream",
          "text": [
            "162.674965974935 158.3477895100911 4.327176487223312\n",
            "Epoch #258\n"
          ],
          "name": "stdout"
        },
        {
          "output_type": "stream",
          "text": [
            "-(Training):   0%|          | 0/1875 [00:00<?, ?it/s]"
          ],
          "name": "stderr"
        },
        {
          "output_type": "stream",
          "text": [
            "162.65166755371084 158.32500390218084 4.32666368789672\n",
            "Epoch #259\n"
          ],
          "name": "stdout"
        },
        {
          "output_type": "stream",
          "text": [
            "-(Training):   0%|          | 0/1875 [00:00<?, ?it/s]"
          ],
          "name": "stderr"
        },
        {
          "output_type": "stream",
          "text": [
            "162.64637844238268 158.3244107177736 4.321967604064941\n",
            "Epoch #260\n"
          ],
          "name": "stdout"
        },
        {
          "output_type": "stream",
          "text": [
            "-(Training):   0%|          | 0/1875 [00:00<?, ?it/s]"
          ],
          "name": "stderr"
        },
        {
          "output_type": "stream",
          "text": [
            "162.6713935953773 158.3436750040689 4.327718586476646\n",
            "Epoch #261\n"
          ],
          "name": "stdout"
        },
        {
          "output_type": "stream",
          "text": [
            "-(Training):   0%|          | 0/1875 [00:00<?, ?it/s]"
          ],
          "name": "stderr"
        },
        {
          "output_type": "stream",
          "text": [
            "162.6387492716474 158.3127547688802 4.325994597880045\n",
            "Epoch #262\n"
          ],
          "name": "stdout"
        },
        {
          "output_type": "stream",
          "text": [
            "-(Training):   0%|          | 0/1875 [00:00<?, ?it/s]"
          ],
          "name": "stderr"
        },
        {
          "output_type": "stream",
          "text": [
            "162.62947549641927 158.30909244384773 4.320382961273202\n",
            "Epoch #263\n"
          ],
          "name": "stdout"
        },
        {
          "output_type": "stream",
          "text": [
            "-(Training):   0%|          | 0/1875 [00:00<?, ?it/s]"
          ],
          "name": "stderr"
        },
        {
          "output_type": "stream",
          "text": [
            "162.6602782511393 158.33749999186224 4.322778433990483\n",
            "Epoch #264\n"
          ],
          "name": "stdout"
        },
        {
          "output_type": "stream",
          "text": [
            "-(Training):   0%|          | 0/1875 [00:00<?, ?it/s]"
          ],
          "name": "stderr"
        },
        {
          "output_type": "stream",
          "text": [
            "162.65930620524088 158.3312003173827 4.328106014251712\n",
            "Epoch #265\n"
          ],
          "name": "stdout"
        },
        {
          "output_type": "stream",
          "text": [
            "-(Training):   0%|          | 0/1875 [00:00<?, ?it/s]"
          ],
          "name": "stderr"
        },
        {
          "output_type": "stream",
          "text": [
            "162.64429161376964 158.31069772542318 4.333593940989173\n",
            "Epoch #266\n"
          ],
          "name": "stdout"
        },
        {
          "output_type": "stream",
          "text": [
            "-(Training):   0%|          | 0/1875 [00:00<?, ?it/s]"
          ],
          "name": "stderr"
        },
        {
          "output_type": "stream",
          "text": [
            "162.642483300781 158.31503413085898 4.327449235534675\n",
            "Epoch #267\n"
          ],
          "name": "stdout"
        },
        {
          "output_type": "stream",
          "text": [
            "-(Training):   0%|          | 0/1875 [00:00<?, ?it/s]"
          ],
          "name": "stderr"
        },
        {
          "output_type": "stream",
          "text": [
            "162.62878736165374 158.29862705891932 4.330160320281981\n",
            "Epoch #268\n"
          ],
          "name": "stdout"
        },
        {
          "output_type": "stream",
          "text": [
            "-(Training):   0%|          | 0/1875 [00:00<?, ?it/s]"
          ],
          "name": "stderr"
        },
        {
          "output_type": "stream",
          "text": [
            "162.6412101521808 158.3181181355796 4.323092039489752\n",
            "Epoch #269\n"
          ],
          "name": "stdout"
        },
        {
          "output_type": "stream",
          "text": [
            "-(Training):   0%|          | 0/1875 [00:00<?, ?it/s]"
          ],
          "name": "stderr"
        },
        {
          "output_type": "stream",
          "text": [
            "162.64360810546876 158.31921901855438 4.324388976542159\n",
            "Epoch #270\n"
          ],
          "name": "stdout"
        },
        {
          "output_type": "stream",
          "text": [
            "-(Training):   0%|          | 0/1875 [00:00<?, ?it/s]"
          ],
          "name": "stderr"
        },
        {
          "output_type": "stream",
          "text": [
            "162.62563634033185 158.3016036946613 4.324032697550449\n",
            "Epoch #271\n"
          ],
          "name": "stdout"
        },
        {
          "output_type": "stream",
          "text": [
            "-(Training):   0%|          | 0/1875 [00:00<?, ?it/s]"
          ],
          "name": "stderr"
        },
        {
          "output_type": "stream",
          "text": [
            "162.60907965901728 158.28908750000025 4.3199922032674145\n",
            "Epoch #272\n"
          ],
          "name": "stdout"
        },
        {
          "output_type": "stream",
          "text": [
            "-(Training):   0%|          | 0/1875 [00:00<?, ?it/s]"
          ],
          "name": "stderr"
        },
        {
          "output_type": "stream",
          "text": [
            "162.64039711507172 158.3192324259439 4.321164553070069\n",
            "Epoch #273\n"
          ],
          "name": "stdout"
        },
        {
          "output_type": "stream",
          "text": [
            "-(Training):   0%|          | 0/1875 [00:00<?, ?it/s]"
          ],
          "name": "stderr"
        },
        {
          "output_type": "stream",
          "text": [
            "162.61654857991556 158.29366799723303 4.322880560048423\n",
            "Epoch #274\n"
          ],
          "name": "stdout"
        },
        {
          "output_type": "stream",
          "text": [
            "-(Training):   0%|          | 0/1875 [00:00<?, ?it/s]"
          ],
          "name": "stderr"
        },
        {
          "output_type": "stream",
          "text": [
            "162.63642834065766 158.30413566080713 4.3322926109313915\n",
            "Epoch #275\n"
          ],
          "name": "stdout"
        },
        {
          "output_type": "stream",
          "text": [
            "-(Training):   0%|          | 0/1875 [00:00<?, ?it/s]"
          ],
          "name": "stderr"
        },
        {
          "output_type": "stream",
          "text": [
            "162.61364960123686 158.283334484863 4.330315031178786\n",
            "Epoch #276\n"
          ],
          "name": "stdout"
        },
        {
          "output_type": "stream",
          "text": [
            "-(Training):   0%|          | 0/1875 [00:00<?, ?it/s]"
          ],
          "name": "stderr"
        },
        {
          "output_type": "stream",
          "text": [
            "162.6230181844078 158.2990523478189 4.32396576182048\n",
            "Epoch #277\n"
          ],
          "name": "stdout"
        },
        {
          "output_type": "stream",
          "text": [
            "-(Training):   0%|          | 0/1875 [00:00<?, ?it/s]"
          ],
          "name": "stderr"
        },
        {
          "output_type": "stream",
          "text": [
            "162.5964313557942 158.2765557535808 4.319875597381591\n",
            "Epoch #278\n"
          ],
          "name": "stdout"
        },
        {
          "output_type": "stream",
          "text": [
            "-(Training):   0%|          | 0/1875 [00:00<?, ?it/s]"
          ],
          "name": "stderr"
        },
        {
          "output_type": "stream",
          "text": [
            "162.5987972249349 158.27824073486298 4.32055646591187\n",
            "Epoch #279\n"
          ],
          "name": "stdout"
        },
        {
          "output_type": "stream",
          "text": [
            "-(Training):   0%|          | 0/1875 [00:00<?, ?it/s]"
          ],
          "name": "stderr"
        },
        {
          "output_type": "stream",
          "text": [
            "162.61659078369138 158.29308885091135 4.323501945241292\n",
            "Epoch #280\n"
          ],
          "name": "stdout"
        },
        {
          "output_type": "stream",
          "text": [
            "-(Training):   0%|          | 0/1875 [00:00<?, ?it/s]"
          ],
          "name": "stderr"
        },
        {
          "output_type": "stream",
          "text": [
            "162.61154208984397 158.2808912882486 4.330650674947109\n",
            "Epoch #281\n"
          ],
          "name": "stdout"
        },
        {
          "output_type": "stream",
          "text": [
            "-(Training):   0%|          | 0/1875 [00:00<?, ?it/s]"
          ],
          "name": "stderr"
        },
        {
          "output_type": "stream",
          "text": [
            "162.58676119791681 158.26128768717447 4.325473501078289\n",
            "Epoch #282\n"
          ],
          "name": "stdout"
        },
        {
          "output_type": "stream",
          "text": [
            "-(Training):   0%|          | 0/1875 [00:00<?, ?it/s]"
          ],
          "name": "stderr"
        },
        {
          "output_type": "stream",
          "text": [
            "162.62411986490878 158.29697075195318 4.327148887888581\n",
            "Epoch #283\n"
          ],
          "name": "stdout"
        },
        {
          "output_type": "stream",
          "text": [
            "-(Training):   0%|          | 0/1875 [00:00<?, ?it/s]"
          ],
          "name": "stderr"
        },
        {
          "output_type": "stream",
          "text": [
            "162.6089923665361 158.28216599934896 4.326826331075035\n",
            "Epoch #284\n"
          ],
          "name": "stdout"
        },
        {
          "output_type": "stream",
          "text": [
            "-(Training):   0%|          | 0/1875 [00:00<?, ?it/s]"
          ],
          "name": "stderr"
        },
        {
          "output_type": "stream",
          "text": [
            "162.597810965983 158.2712972208657 4.3265138631184925\n",
            "Epoch #285\n"
          ],
          "name": "stdout"
        },
        {
          "output_type": "stream",
          "text": [
            "-(Training):   0%|          | 0/1875 [00:00<?, ?it/s]"
          ],
          "name": "stderr"
        },
        {
          "output_type": "stream",
          "text": [
            "162.57830460611953 158.25531922200483 4.32298563944499\n",
            "Epoch #286\n"
          ],
          "name": "stdout"
        },
        {
          "output_type": "stream",
          "text": [
            "-(Training):   0%|          | 0/1875 [00:00<?, ?it/s]"
          ],
          "name": "stderr"
        },
        {
          "output_type": "stream",
          "text": [
            "162.5860010294593 158.25751214192667 4.328488677978511\n",
            "Epoch #287\n"
          ],
          "name": "stdout"
        },
        {
          "output_type": "stream",
          "text": [
            "-(Training):   0%|          | 0/1875 [00:00<?, ?it/s]"
          ],
          "name": "stderr"
        },
        {
          "output_type": "stream",
          "text": [
            "162.5918570882158 158.2650202758787 4.326836808013915\n",
            "Epoch #288\n"
          ],
          "name": "stdout"
        },
        {
          "output_type": "stream",
          "text": [
            "-(Training):   0%|          | 0/1875 [00:00<?, ?it/s]"
          ],
          "name": "stderr"
        },
        {
          "output_type": "stream",
          "text": [
            "162.58688165690089 158.2613272745769 4.325554298909504\n",
            "Epoch #289\n"
          ],
          "name": "stdout"
        },
        {
          "output_type": "stream",
          "text": [
            "-(Training):   0%|          | 0/1875 [00:00<?, ?it/s]"
          ],
          "name": "stderr"
        },
        {
          "output_type": "stream",
          "text": [
            "162.56660630696624 158.23701125488273 4.329595023600255\n",
            "Epoch #290\n"
          ],
          "name": "stdout"
        },
        {
          "output_type": "stream",
          "text": [
            "-(Training):   0%|          | 0/1875 [00:00<?, ?it/s]"
          ],
          "name": "stderr"
        },
        {
          "output_type": "stream",
          "text": [
            "162.5762418212889 158.24754617919896 4.328695641072596\n",
            "Epoch #291\n"
          ],
          "name": "stdout"
        },
        {
          "output_type": "stream",
          "text": [
            "-(Training):   0%|          | 0/1875 [00:00<?, ?it/s]"
          ],
          "name": "stderr"
        },
        {
          "output_type": "stream",
          "text": [
            "162.57646717122367 158.2507919230142 4.325675232187907\n",
            "Epoch #292\n"
          ],
          "name": "stdout"
        },
        {
          "output_type": "stream",
          "text": [
            "-(Training):   0%|          | 0/1875 [00:00<?, ?it/s]"
          ],
          "name": "stderr"
        },
        {
          "output_type": "stream",
          "text": [
            "162.57288918457027 158.2463974405923 4.326491625213634\n",
            "Epoch #293\n"
          ],
          "name": "stdout"
        },
        {
          "output_type": "stream",
          "text": [
            "-(Training):   0%|          | 0/1875 [00:00<?, ?it/s]"
          ],
          "name": "stderr"
        },
        {
          "output_type": "stream",
          "text": [
            "162.55756868896526 158.2338555989584 4.323713014984133\n",
            "Epoch #294\n"
          ],
          "name": "stdout"
        },
        {
          "output_type": "stream",
          "text": [
            "-(Training):   0%|          | 0/1875 [00:00<?, ?it/s]"
          ],
          "name": "stderr"
        },
        {
          "output_type": "stream",
          "text": [
            "162.56855181884754 158.24556287841799 4.32298900731405\n",
            "Epoch #295\n"
          ],
          "name": "stdout"
        },
        {
          "output_type": "stream",
          "text": [
            "-(Training):   0%|          | 0/1875 [00:00<?, ?it/s]"
          ],
          "name": "stderr"
        },
        {
          "output_type": "stream",
          "text": [
            "162.55984809977232 158.23402799072295 4.325819818369548\n",
            "Epoch #296\n"
          ],
          "name": "stdout"
        },
        {
          "output_type": "stream",
          "text": [
            "-(Training):   0%|          | 0/1875 [00:00<?, ?it/s]"
          ],
          "name": "stderr"
        },
        {
          "output_type": "stream",
          "text": [
            "162.5861799682615 158.25517738037132 4.331002495574947\n",
            "Epoch #297\n"
          ],
          "name": "stdout"
        },
        {
          "output_type": "stream",
          "text": [
            "-(Training):   0%|          | 0/1875 [00:00<?, ?it/s]"
          ],
          "name": "stderr"
        },
        {
          "output_type": "stream",
          "text": [
            "162.57729890950515 158.2457157755534 4.3315831484476695\n",
            "Epoch #298\n"
          ],
          "name": "stdout"
        },
        {
          "output_type": "stream",
          "text": [
            "-(Training):   0%|          | 0/1875 [00:00<?, ?it/s]"
          ],
          "name": "stderr"
        },
        {
          "output_type": "stream",
          "text": [
            "162.546645214844 158.22223287353492 4.324412102254229\n",
            "Epoch #299\n"
          ],
          "name": "stdout"
        },
        {
          "output_type": "stream",
          "text": [
            "                                                                 "
          ],
          "name": "stderr"
        },
        {
          "output_type": "stream",
          "text": [
            "162.55391484781887 158.23004900309266 4.323865903981521\n"
          ],
          "name": "stdout"
        },
        {
          "output_type": "stream",
          "text": [
            "\r"
          ],
          "name": "stderr"
        }
      ]
    },
    {
      "cell_type": "code",
      "metadata": {
        "id": "VT9TzOOrfG0e",
        "colab_type": "code",
        "colab": {}
      },
      "source": [
        "217.03993721516906 212.38253380533862 4.657403580474856"
      ],
      "execution_count": 0,
      "outputs": []
    },
    {
      "cell_type": "code",
      "metadata": {
        "id": "ss1_gsUD7oB3",
        "colab_type": "code",
        "colab": {}
      },
      "source": [
        "from google.colab import files\n",
        "model_name = '600epochs_cvae_mnist.torch'\n",
        "torch.save(model.state_dict(), model_name)\n",
        "files.download(model_name)"
      ],
      "execution_count": 0,
      "outputs": []
    },
    {
      "cell_type": "markdown",
      "metadata": {
        "id": "NmRAM9sXwuWz",
        "colab_type": "text"
      },
      "source": [
        "## Test reconstruction"
      ]
    },
    {
      "cell_type": "code",
      "metadata": {
        "id": "mmXwywRJw1c_",
        "colab_type": "code",
        "outputId": "83665de4-de0d-44c6-e2be-16e97fe08eab",
        "colab": {
          "base_uri": "https://localhost:8080/",
          "height": 89
        }
      },
      "source": [
        "t = tqdm(test_loader, mininterval=1, desc='-(Testing)', leave=False)\n",
        "total_loss = 0\n",
        "total_bce = 0\n",
        "total_kld = 0\n",
        "for idx, (images, labels) in enumerate(t):\n",
        "    labels = one_hot_embedding(labels, 10)\n",
        "    images = images.cuda()\n",
        "    labels = labels.cuda()\n",
        "    recon_images, mu, logvar = model(images, labels)\n",
        "    loss, bce, kld = loss_fn(recon_images, images, mu, logvar)\n",
        "\n",
        "    total_loss += loss.item() / len(test_loader)\n",
        "    total_bce += bce.item() / len(test_loader)\n",
        "    total_kld += kld.item() / len(test_loader)\n",
        "print(total_loss, total_bce, total_kld)"
      ],
      "execution_count": 0,
      "outputs": [
        {
          "output_type": "stream",
          "text": [
            "\r-(Testing):   0%|          | 0/313 [00:00<?, ?it/s]/usr/local/lib/python3.6/dist-packages/torch/nn/_reduction.py:46: UserWarning: size_average and reduce args will be deprecated, please use reduction='sum' instead.\n",
            "  warnings.warn(warning.format(ret))\n",
            "                                                             "
          ],
          "name": "stderr"
        },
        {
          "output_type": "stream",
          "text": [
            "177.52375676456742 173.21675760677445 4.306998971932994\n"
          ],
          "name": "stdout"
        },
        {
          "output_type": "stream",
          "text": [
            "\r"
          ],
          "name": "stderr"
        }
      ]
    },
    {
      "cell_type": "code",
      "metadata": {
        "id": "GqT6yxAw-Oql",
        "colab_type": "code",
        "colab": {}
      },
      "source": [
        "torch.save(model.state_dict(), '300epochs_cvae_mnist.torch')"
      ],
      "execution_count": 0,
      "outputs": []
    },
    {
      "cell_type": "code",
      "metadata": {
        "id": "OA1eFqsG_axL",
        "colab_type": "code",
        "colab": {}
      },
      "source": [
        "from google.colab import files\n",
        "files.download( \"300epochs_cvae_mnist.torch\" ) "
      ],
      "execution_count": 0,
      "outputs": []
    },
    {
      "cell_type": "markdown",
      "metadata": {
        "id": "ZWA-e1-5m5Oq",
        "colab_type": "text"
      },
      "source": [
        "## Reconstruct images"
      ]
    },
    {
      "cell_type": "code",
      "metadata": {
        "id": "SvgISSZdYEu0",
        "colab_type": "code",
        "outputId": "50c1fb84-b824-4b28-b512-cbfc1a541293",
        "colab": {
          "base_uri": "https://localhost:8080/",
          "height": 305
        }
      },
      "source": [
        "img = test_set[randint(1, 100)]\n",
        "rec_img, _, _ = model2(img[0].unsqueeze(0).cuda(), one_hot_embedding(img[1], n_classes).unsqueeze(0).cuda())\n",
        "\n",
        "fig=plt.figure(figsize=(10, 10))\n",
        "columns = 2\n",
        "rows = 1\n",
        "\n",
        "fig.add_subplot(rows, columns, 1)\n",
        "plt.imshow(img[0].cpu().squeeze(0).squeeze(0).detach().numpy())\n",
        "fig.add_subplot(rows, columns, 2)\n",
        "plt.imshow(rec_img.cpu().squeeze(0).squeeze(0).detach().numpy())\n",
        "\n",
        "plt.show()\n",
        "\n",
        "#save_image(compare_x.data.cpu(), 'sample_image.png')\n",
        "#display(Image('sample_image.png', width=700, unconfined=True))"
      ],
      "execution_count": 0,
      "outputs": [
        {
          "output_type": "display_data",
          "data": {
            "image/png": "[encoded data removed]",
            "text/plain": [
              "<Figure size 720x720 with 2 Axes>"
            ]
          },
          "metadata": {
            "tags": []
          }
        }
      ]
    },
    {
      "cell_type": "markdown",
      "metadata": {
        "id": "kbAuN2DIewpe",
        "colab_type": "text"
      },
      "source": [
        "##Generate image"
      ]
    },
    {
      "cell_type": "code",
      "metadata": {
        "id": "zDBLDVDHgFAA",
        "colab_type": "code",
        "outputId": "6f26b2d2-9858-420c-fba6-9881449ca95b",
        "colab": {
          "base_uri": "https://localhost:8080/",
          "height": 287
        }
      },
      "source": [
        "digit = 9\n",
        "rec_img = model.decode(torch.randn(1, 16).cuda(), one_hot_embedding(digit, n_classes).unsqueeze(0).cuda())\n",
        "plt.imshow(rec_img.cpu().squeeze(0).squeeze(0).detach().numpy())"
      ],
      "execution_count": 0,
      "outputs": [
        {
          "output_type": "execute_result",
          "data": {
            "text/plain": [
              "<matplotlib.image.AxesImage at 0x7fa42dca1780>"
            ]
          },
          "metadata": {
            "tags": []
          },
          "execution_count": 202
        },
        {
          "output_type": "display_data",
          "data": {
            "image/png": "[encoded data removed]",
            "text/plain": [
              "<Figure size 432x288 with 1 Axes>"
            ]
          },
          "metadata": {
            "tags": []
          }
        }
      ]
    }
  ]
}